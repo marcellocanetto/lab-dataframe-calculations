{
 "cells": [
  {
   "cell_type": "markdown",
   "metadata": {},
   "source": [
    "Working with Constants"
   ]
  },
  {
   "cell_type": "markdown",
   "metadata": {},
   "source": [
    "We can add new calculated columns using an existing column and a constant value. We create a new column that converts the body weight in pounds to kilograms."
   ]
  },
  {
   "cell_type": "code",
   "execution_count": null,
   "metadata": {},
   "outputs": [],
   "source": [
    "import numpy as np\n",
    "import pandas as pd\n",
    "\n",
    "animals = pd.read_csv('./data/animals.csv')\n",
    "\n",
    "animals['bodywtkg'] = animals['bodywt'] * 0.45359237\n",
    "animals.head()\n",
    " \tbrainwt     bodywt \tanimal \t        bodywtkg\n",
    "0 \t3.385 \t    44.500 \tArctic_fox \t20.184860\n",
    "1 \t0.480 \t    15.499 \tOwl_monkey \t7.030228\n",
    "2 \t1.350 \t    8.100 \tBeaver \t        3.674098\n",
    "3 \t464.983     423.012 \tCow \t        191.875016\n",
    "4 \t36.328 \t    119.498 \tGray_wolf       54.203381\n"
   ]
  },
  {
   "cell_type": "markdown",
   "metadata": {},
   "source": [
    "Combining Two (or More) Columns"
   ]
  },
  {
   "cell_type": "code",
   "execution_count": null,
   "metadata": {},
   "outputs": [],
   "source": [
    "animals['wtratiozerocheck'] = np.where(animals['brainwt'] != 0, animals['bodywt'] / animals['brainwt'], 0)\n",
    "animals.head()\n",
    " \tbrainwt bodywt \t    animal \tbodywtkg \twtratio \twtratiozerocheck\n",
    "0 \t3.385 \t44.500 \t    Arctic_fox \t20.184860 \t13.146233 \t13.146233\n",
    "1 \t0.480 \t15.499 \t    Owl_monkey \t7.030228 \t32.289583 \t32.289583\n",
    "2 \t1.350 \t8.100 \t    Beaver \t3.674098 \t6.000000        6.000000\n",
    "3 \t464.983 423.012     Cow \t191.875016 \t0.909736        0.909736\n",
    "4 \t36.328 \t119.498     Gray_wolf \t54.203381 \t3.289419 \t3.289419\n"
   ]
  },
  {
   "cell_type": "markdown",
   "metadata": {},
   "source": [
    "Calculations Using Functions"
   ]
  },
  {
   "cell_type": "markdown",
   "metadata": {},
   "source": [
    "Let's say we want to take a sum of all numeric columns in the animals DataFrame. We can do this by using the sum function and passing axis=1as an argument to the function."
   ]
  },
  {
   "cell_type": "code",
   "execution_count": null,
   "metadata": {},
   "outputs": [],
   "source": [
    "animals['sum'] = animals.sum(axis=1)\n",
    "animals['sum']\n",
    "0        94.362327\n",
    "1        87.588395\n",
    "2        25.124098\n",
    "3      1081.689489\n",
    "4       216.608218\n",
    "          ...     \n",
    "57      407.773558\n",
    "58       10.457118\n",
    "59       32.265027\n",
    "60       51.814904\n",
    "61      101.297708\n",
    "Name: sum, Length: 62, dtype: float64"
   ]
  },
  {
   "cell_type": "markdown",
   "metadata": {},
   "source": [
    "Data Aggregation & Summarization"
   ]
  },
  {
   "cell_type": "markdown",
   "metadata": {},
   "source": [
    "Grouping"
   ]
  },
  {
   "cell_type": "markdown",
   "metadata": {},
   "source": [
    "Applying the groupby function to a DataFrame will return a DataFrameGroupBy object. We then specify the columns that we intend to group on."
   ]
  },
  {
   "cell_type": "code",
   "execution_count": null,
   "metadata": {},
   "outputs": [],
   "source": [
    "import numpy as np\n",
    "import pandas as pd\n",
    "\n",
    "vehicles = pd.read_csv('vehicles.csv')\n",
    "vehicles.groupby(['Transmission'])"
   ]
  },
  {
   "cell_type": "markdown",
   "metadata": {},
   "source": [
    "Aggregations"
   ]
  },
  {
   "cell_type": "markdown",
   "metadata": {},
   "source": [
    "We can apply different aggregation functions to our grouped data. We can use some standard functions or define our own functions and then apply them to the aggregated data using the agg function.\n",
    "\n",
    "Some standard aggregation functions are: mean, sum, count, median, min, max, std.\n",
    "\n",
    "We can also use the agg function to apply multiple aggregations at once to all columns specified.\n",
    "\n",
    "After aggregating, we can subset the data to only apply the aggregation to the columns that we choose.\n",
    "\n",
    "Here are some examples of standard aggregation functions:"
   ]
  },
  {
   "cell_type": "code",
   "execution_count": null,
   "metadata": {},
   "outputs": [],
   "source": [
    "#Here we aggregate 3 different columns and compute their mean based on the different transmission values\n",
    "vehicles.groupby(['Transmission'])['Highway MPG', 'City MPG', 'Combined MPG'].mean()\n",
    " \t       Highway MPG \tCity MPG \tCombined MPG\n",
    "Transmission \t\t\t\n",
    "Auto (AV) \t40.000000 \t35.000000 \t37.000000\n",
    "Auto (AV-S6) \t25.000000 \t22.000000 \t23.000000\n",
    "Auto (AV-S8) \t22.000000 \t20.000000 \t21.000000\n",
    "Auto(A1) \t37.000000 \t41.000000 \t39.000000\n",
    "Auto(AM-S6) \t32.978261 \t24.315217 \t27.554348\n",
    "... \t... \t... \t...\n",
    "Manual 5 spd \t14.000000 \t14.000000 \t14.000000\n",
    "Manual 5-spd \t25.664312 \t19.242327 \t21.634391\n",
    "Manual 6-spd \t26.202229 \t18.306232 \t21.153941\n",
    "Manual 7-spd \t26.205882 \t18.220588 \t21.117647\n",
    "Manual(M7) \t22.333333 \t14.000000 \t17.000000\n",
    "45 rows Г— 3 columns\n",
    "\n",
    "#In this example we aggregate based on two columns and compute the median CO2 Emission for all combinations of fuel type and cylinders\n",
    "vehicles.groupby(['Fuel Type', 'Cylinders'])['CO2 Emission Grams/Mile'].median()\n",
    "Fuel Type                    Cylinders\n",
    "CNG                          4.0          253.197321\n",
    "                             6.0          417.030882\n",
    "                             8.0          568.070913\n",
    "Diesel                       4.0          308.484848\n",
    "                             5.0          391.538462\n",
    "                                             ...    \n",
    "Regular                      8.0          634.785714\n",
    "                             10.0         776.500000\n",
    "                             12.0         683.615385\n",
    "Regular Gas and Electricity  4.0          129.000000\n",
    "Regular Gas or Electricity   4.0           51.000000\n",
    "Name: CO2 Emission Grams/Mile, Length: 48, dtype: float64\n",
    "\n",
    "#Here we produce the mean, median and standard deviation for combined MPG grouped by fuel type\n",
    "vehicles.groupby(['Fuel Type'])['Combined MPG'].agg(['mean', 'median', 'std'])\n",
    " \t                        mean \tmedian \tstd\n",
    "Fuel Type \t\t\t\n",
    "CNG \t                    18.133333 \t14.5 \t7.436663\n",
    "Diesel \t                    23.488474 \t21.0 \t7.054702\n",
    "Gasoline or E85 \t    17.572385 \t17.0 \t3.822538\n",
    "Gasoline or natural gas     15.350000 \t12.0 \t5.343712\n",
    "Gasoline or propane \t    13.500000 \t13.5 \t1.603567\n",
    "... \t... \t... \t...\n",
    "Premium and Electricity     26.300000 \t25.5 \t5.141165\n",
    "Premium or E85 \t            20.090909 \t20.0 \t3.676502\n",
    "Regular \t            20.144698 \t20.0 \t5.317500\n",
    "Regular Gas and Electricity 41.937500 \t38.5 \t5.246824\n",
    "Regular Gas or Electricity  42.000000 \t42.0 \t0.000000\n",
    "\n",
    "13 rows Г— 3 columns\n"
   ]
  },
  {
   "cell_type": "markdown",
   "metadata": {},
   "source": [
    "Custom Aggregation Functions"
   ]
  },
  {
   "cell_type": "markdown",
   "metadata": {},
   "source": [
    "We do not have to be limited by the range of standard aggregation functions. If the need arises, we can write our own aggregation function.\n",
    "\n",
    "For example, in our vehicle dataset, we might want to find out for each level of transmission, what is the most common vehicle class. In other words, we would like to find the mode.\n",
    "\n",
    "We can write our own implementation of the mode function, but it would be more efficient to use the scipy implementation of this function. Scipy is a Python package for scientific computing.\n",
    "\n",
    "Let us first define our custom function using the scipy mode function. We create a custom function since the mode function returns a tuple with the mode and the frequency of the mode. We are only interested in the first part of the tuple."
   ]
  },
  {
   "cell_type": "code",
   "execution_count": null,
   "metadata": {},
   "outputs": [],
   "source": [
    "from scipy import stats\n",
    "\n",
    "def agg_mode(x):\n",
    "    return(stats.mode(x)[0])"
   ]
  },
  {
   "cell_type": "code",
   "execution_count": null,
   "metadata": {},
   "outputs": [],
   "source": [
    "vehicles.groupby(\"Transmission\")[\"Vehicle Class\"].agg(agg_mode)\n",
    "Transmission\n",
    "Auto (AV)           Compact Cars\n",
    "Auto (AV-S6)        Compact Cars\n",
    "Auto (AV-S8)        Midsize Cars\n",
    "Auto(A1)         Subcompact Cars\n",
    "Auto(AM-S6)         Compact Cars\n",
    "                      ...       \n",
    "Manual 5 spd                Vans\n",
    "Manual 5-spd        Compact Cars\n",
    "Manual 6-spd        Compact Cars\n",
    "Manual 7-spd    Minicompact Cars\n",
    "Manual(M7)           Two Seaters\n",
    "Name: Vehicle Class, Length: 45, dtype: object"
   ]
  },
  {
   "cell_type": "markdown",
   "metadata": {},
   "source": [
    "Plotting Multiple Data Series"
   ]
  },
  {
   "cell_type": "markdown",
   "metadata": {},
   "source": [
    "There are many cases when a more elaborate visualization can help us understand our data better. Therefore, in this lesson we will focus on generating such visualizations.\n",
    "\n"
   ]
  },
  {
   "cell_type": "markdown",
   "metadata": {},
   "source": [
    "Multiple Line Plots"
   ]
  },
  {
   "cell_type": "markdown",
   "metadata": {},
   "source": [
    "We want to compare the relationship between city MPG, highway MPG and CO2 emissions"
   ]
  },
  {
   "cell_type": "markdown",
   "metadata": {},
   "source": [
    "In order to do this, we can use the .plot function in Pandas. With this function, we can specify which variables will be in the x axis and which will be in the y axis. We will put CO2 emissions in the x axis and the MPG variables in the y axis.\n",
    "\n",
    "In order to get a meaningful visualization, we should sort our DataFrame by these variables first. This is because Python does not sort by default. It will just connect a line between any two points in the chart that are sequential. This can lead to a very unclear chart."
   ]
  },
  {
   "cell_type": "code",
   "execution_count": null,
   "metadata": {},
   "outputs": [],
   "source": [
    "%matplotlib inline\n",
    "import numpy as np\n",
    "import pandas as pd\n",
    "import matplotlib.pyplot as plt\n",
    "vehicles = pd.read_csv('vehicles.csv')\n",
    "\n",
    "vehicles.sort_values(by=[\"CO2 Emission Grams/Mile\", \"City MPG\", \"Highway MPG\"], inplace=True)\n",
    "vehicles.plot(x=\"CO2 Emission Grams/Mile\", y=[\"City MPG\", \"Highway MPG\"])"
   ]
  },
  {
   "cell_type": "markdown",
   "metadata": {},
   "source": [
    "Multiple Bar Plots\n"
   ]
  },
  {
   "cell_type": "markdown",
   "metadata": {},
   "source": [
    "When plotting categorical data, there is value to plotting two or more groups side by side and being able to compare them. There are a few ways of creating such a plot"
   ]
  },
  {
   "cell_type": "markdown",
   "metadata": {},
   "source": [
    "Side By Side Bar Plots"
   ]
  },
  {
   "cell_type": "markdown",
   "metadata": {},
   "source": [
    "If we include multiple columns in our bar plot, they will show up side by side in different colors.\n",
    "\n",
    "In the example below we aggregate both highway and city MPG by drivetrain. Since a bar plot will plot one value per group, we will aggregate and compute the mean."
   ]
  },
  {
   "cell_type": "code",
   "execution_count": null,
   "metadata": {},
   "outputs": [],
   "source": [
    "vehicles_mean = vehicles[[\"Highway MPG\", \"City MPG\", \"Drivetrain\"]].groupby([\"Drivetrain\"]).agg(\"mean\")\n",
    "vehicles_mean.plot.bar()"
   ]
  },
  {
   "cell_type": "markdown",
   "metadata": {},
   "source": [
    "Side By Side Horizontal Bar Plots\n"
   ]
  },
  {
   "cell_type": "markdown",
   "metadata": {},
   "source": [
    "We can use the .barh function to produce horizontal bars."
   ]
  },
  {
   "cell_type": "code",
   "execution_count": null,
   "metadata": {},
   "outputs": [],
   "source": [
    "vehicles_mean.plot.barh()"
   ]
  },
  {
   "cell_type": "markdown",
   "metadata": {},
   "source": [
    "Scatter Matrices"
   ]
  },
  {
   "cell_type": "markdown",
   "metadata": {},
   "source": [
    "A scatter matrix is a useful tool particularly in exploratory data analysis. We can look at the pairwise relationships between multiple variables at the same time. Typically what we look for is linear relationships between the pairs of variables. This information can help us in the future when modeling the data. There are also non linear relationships that we can detect like a logarithmic or exponential relationship between two variables. In this case, we can apply a transformation to the variables to produce a linear relationship.\n",
    "\n",
    "We will be using the scatter_matrix function. This function will create a scatter plot for any two numeric variables in our data.\n",
    "\n",
    "By default the scatter matrix displays the histogram of each variable along the diagonal. We can also show the kernel density estimation along the diagonal instead."
   ]
  },
  {
   "cell_type": "code",
   "execution_count": null,
   "metadata": {},
   "outputs": [],
   "source": [
    "pd.plotting.scatter_matrix(vehicles)"
   ]
  },
  {
   "cell_type": "markdown",
   "metadata": {},
   "source": [
    "This visualization may seem a bit cluttered but it tells us quite a bit about our data. The main takeaways are that there is a linear relationship between combined MPG, city MPG and highway MPG. There is a non linear relationship between MPG and CO2 emissions and MPG and fuel cost per year. The relationship between those pairs of variables could benefit from a transformation in order to make those relationships linear.\n",
    "\n"
   ]
  }
 ],
 "metadata": {
  "kernelspec": {
   "display_name": "Python 3",
   "language": "python",
   "name": "python3"
  },
  "language_info": {
   "codemirror_mode": {
    "name": "ipython",
    "version": 3
   },
   "file_extension": ".py",
   "mimetype": "text/x-python",
   "name": "python",
   "nbconvert_exporter": "python",
   "pygments_lexer": "ipython3",
   "version": "3.8.3"
  }
 },
 "nbformat": 4,
 "nbformat_minor": 4
}
