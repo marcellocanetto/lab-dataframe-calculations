{
 "cells": [
  {
   "cell_type": "markdown",
   "metadata": {
    "colab_type": "text",
    "id": "6C224eUGQwpR"
   },
   "source": [
    "# Data Manipulation"
   ]
  },
  {
   "cell_type": "markdown",
   "metadata": {
    "colab_type": "text",
    "id": "_mT6ZRQL4luY"
   },
   "source": [
    "## Introduction \n"
   ]
  },
  {
   "cell_type": "markdown",
   "metadata": {
    "colab_type": "text",
    "id": "UiYfaxkXQ2YO"
   },
   "source": [
    "This lecture is the second part of our lecture on data manipulation. In this part, we introduce a variety of more advanced data manipulation techniques. "
   ]
  },
  {
   "cell_type": "code",
   "execution_count": 1,
   "metadata": {
    "colab": {},
    "colab_type": "code",
    "id": "5ZFqBtWJ4luZ"
   },
   "outputs": [],
   "source": [
    "import pandas as pd\n",
    "import numpy as np\n",
    "from matplotlib import pyplot as plt\n",
    "%matplotlib inline"
   ]
  },
  {
   "cell_type": "code",
   "execution_count": 3,
   "metadata": {
    "colab": {},
    "colab_type": "code",
    "id": "BI3umMQIQuJq",
    "outputId": "f2e19079-763d-47da-da66-61f696c92ff5"
   },
   "outputs": [
    {
     "data": {
      "text/html": [
       "<div>\n",
       "<style scoped>\n",
       "    .dataframe tbody tr th:only-of-type {\n",
       "        vertical-align: middle;\n",
       "    }\n",
       "\n",
       "    .dataframe tbody tr th {\n",
       "        vertical-align: top;\n",
       "    }\n",
       "\n",
       "    .dataframe thead th {\n",
       "        text-align: right;\n",
       "    }\n",
       "</style>\n",
       "<table border=\"1\" class=\"dataframe\">\n",
       "  <thead>\n",
       "    <tr style=\"text-align: right;\">\n",
       "      <th></th>\n",
       "      <th>Make</th>\n",
       "      <th>Model</th>\n",
       "      <th>Year</th>\n",
       "      <th>Engine Displacement</th>\n",
       "      <th>Cylinders</th>\n",
       "      <th>Transmission</th>\n",
       "      <th>Drivetrain</th>\n",
       "      <th>Vehicle Class</th>\n",
       "      <th>Fuel Type</th>\n",
       "      <th>Fuel Barrels/Year</th>\n",
       "      <th>City MPG</th>\n",
       "      <th>Highway MPG</th>\n",
       "      <th>Combined MPG</th>\n",
       "      <th>CO2 Emission Grams/Mile</th>\n",
       "      <th>Fuel Cost/Year</th>\n",
       "    </tr>\n",
       "  </thead>\n",
       "  <tbody>\n",
       "    <tr>\n",
       "      <th>0</th>\n",
       "      <td>AM General</td>\n",
       "      <td>DJ Po Vehicle 2WD</td>\n",
       "      <td>1984</td>\n",
       "      <td>2.5</td>\n",
       "      <td>4.0</td>\n",
       "      <td>Automatic 3-spd</td>\n",
       "      <td>2-Wheel Drive</td>\n",
       "      <td>Special Purpose Vehicle 2WD</td>\n",
       "      <td>Regular</td>\n",
       "      <td>19.388824</td>\n",
       "      <td>18</td>\n",
       "      <td>17</td>\n",
       "      <td>17</td>\n",
       "      <td>522.764706</td>\n",
       "      <td>1950</td>\n",
       "    </tr>\n",
       "    <tr>\n",
       "      <th>1</th>\n",
       "      <td>AM General</td>\n",
       "      <td>FJ8c Post Office</td>\n",
       "      <td>1984</td>\n",
       "      <td>4.2</td>\n",
       "      <td>6.0</td>\n",
       "      <td>Automatic 3-spd</td>\n",
       "      <td>2-Wheel Drive</td>\n",
       "      <td>Special Purpose Vehicle 2WD</td>\n",
       "      <td>Regular</td>\n",
       "      <td>25.354615</td>\n",
       "      <td>13</td>\n",
       "      <td>13</td>\n",
       "      <td>13</td>\n",
       "      <td>683.615385</td>\n",
       "      <td>2550</td>\n",
       "    </tr>\n",
       "    <tr>\n",
       "      <th>2</th>\n",
       "      <td>AM General</td>\n",
       "      <td>Post Office DJ5 2WD</td>\n",
       "      <td>1985</td>\n",
       "      <td>2.5</td>\n",
       "      <td>4.0</td>\n",
       "      <td>Automatic 3-spd</td>\n",
       "      <td>Rear-Wheel Drive</td>\n",
       "      <td>Special Purpose Vehicle 2WD</td>\n",
       "      <td>Regular</td>\n",
       "      <td>20.600625</td>\n",
       "      <td>16</td>\n",
       "      <td>17</td>\n",
       "      <td>16</td>\n",
       "      <td>555.437500</td>\n",
       "      <td>2100</td>\n",
       "    </tr>\n",
       "    <tr>\n",
       "      <th>3</th>\n",
       "      <td>AM General</td>\n",
       "      <td>Post Office DJ8 2WD</td>\n",
       "      <td>1985</td>\n",
       "      <td>4.2</td>\n",
       "      <td>6.0</td>\n",
       "      <td>Automatic 3-spd</td>\n",
       "      <td>Rear-Wheel Drive</td>\n",
       "      <td>Special Purpose Vehicle 2WD</td>\n",
       "      <td>Regular</td>\n",
       "      <td>25.354615</td>\n",
       "      <td>13</td>\n",
       "      <td>13</td>\n",
       "      <td>13</td>\n",
       "      <td>683.615385</td>\n",
       "      <td>2550</td>\n",
       "    </tr>\n",
       "    <tr>\n",
       "      <th>4</th>\n",
       "      <td>ASC Incorporated</td>\n",
       "      <td>GNX</td>\n",
       "      <td>1987</td>\n",
       "      <td>3.8</td>\n",
       "      <td>6.0</td>\n",
       "      <td>Automatic 4-spd</td>\n",
       "      <td>Rear-Wheel Drive</td>\n",
       "      <td>Midsize Cars</td>\n",
       "      <td>Premium</td>\n",
       "      <td>20.600625</td>\n",
       "      <td>14</td>\n",
       "      <td>21</td>\n",
       "      <td>16</td>\n",
       "      <td>555.437500</td>\n",
       "      <td>2550</td>\n",
       "    </tr>\n",
       "  </tbody>\n",
       "</table>\n",
       "</div>"
      ],
      "text/plain": [
       "               Make                Model  Year  Engine Displacement  \\\n",
       "0        AM General    DJ Po Vehicle 2WD  1984                  2.5   \n",
       "1        AM General     FJ8c Post Office  1984                  4.2   \n",
       "2        AM General  Post Office DJ5 2WD  1985                  2.5   \n",
       "3        AM General  Post Office DJ8 2WD  1985                  4.2   \n",
       "4  ASC Incorporated                  GNX  1987                  3.8   \n",
       "\n",
       "   Cylinders     Transmission        Drivetrain                Vehicle Class  \\\n",
       "0        4.0  Automatic 3-spd     2-Wheel Drive  Special Purpose Vehicle 2WD   \n",
       "1        6.0  Automatic 3-spd     2-Wheel Drive  Special Purpose Vehicle 2WD   \n",
       "2        4.0  Automatic 3-spd  Rear-Wheel Drive  Special Purpose Vehicle 2WD   \n",
       "3        6.0  Automatic 3-spd  Rear-Wheel Drive  Special Purpose Vehicle 2WD   \n",
       "4        6.0  Automatic 4-spd  Rear-Wheel Drive                 Midsize Cars   \n",
       "\n",
       "  Fuel Type  Fuel Barrels/Year  City MPG  Highway MPG  Combined MPG  \\\n",
       "0   Regular          19.388824        18           17            17   \n",
       "1   Regular          25.354615        13           13            13   \n",
       "2   Regular          20.600625        16           17            16   \n",
       "3   Regular          25.354615        13           13            13   \n",
       "4   Premium          20.600625        14           21            16   \n",
       "\n",
       "   CO2 Emission Grams/Mile  Fuel Cost/Year  \n",
       "0               522.764706            1950  \n",
       "1               683.615385            2550  \n",
       "2               555.437500            2100  \n",
       "3               683.615385            2550  \n",
       "4               555.437500            2550  "
      ]
     },
     "execution_count": 3,
     "metadata": {},
     "output_type": "execute_result"
    }
   ],
   "source": [
    "# read 'vehicles/vehicles.csv' as data\n",
    "data = pd.read_csv('vehicles.csv')\n",
    "data.head()"
   ]
  },
  {
   "cell_type": "markdown",
   "metadata": {
    "colab_type": "text",
    "id": "7TrTBP-K4lug"
   },
   "source": [
    "## Binning Numerical Values\n"
   ]
  },
  {
   "cell_type": "markdown",
   "metadata": {
    "colab_type": "text",
    "id": "7yIa-YD4RhS7"
   },
   "source": [
    "\n",
    "When preparing data in order to analyze it, one of the things that is useful to do is to **create additional categorical variables**. \n",
    "\n"
   ]
  },
  {
   "cell_type": "markdown",
   "metadata": {
    "colab_type": "text",
    "id": "WFd0DOzD4luh"
   },
   "source": [
    "Categorical variables allow you to group records in different ways, and each way that you categorize them can provide you with a different perspective when you're conducting your analysis. "
   ]
  },
  {
   "cell_type": "markdown",
   "metadata": {
    "colab_type": "text",
    "id": "y-8nEgKT4lui"
   },
   "source": [
    "A common way of creating additional categorical fields is to **bin** numeric variables in a column based on how relatively high or low they are.\n"
   ]
  },
  {
   "cell_type": "markdown",
   "metadata": {
    "colab_type": "text",
    "id": "4dlysZg04lui"
   },
   "source": [
    "\n",
    "For example, our data set has a 'Fuel Barrels/Year' variable that tells us how many fuel barrels per year our car uses.\n"
   ]
  },
  {
   "cell_type": "markdown",
   "metadata": {
    "colab_type": "text",
    "id": "Exbp0gV_4lui"
   },
   "source": [
    "However, it isn't easy to tell whether a vehicle has low or high fuel efficiency just by looking at the numbers. To help with this, we can bin the values in the 'Fuel Barrels/Year' field into an intuitive number of categories."
   ]
  },
  {
   "cell_type": "markdown",
   "metadata": {
    "colab_type": "text",
    "id": "Ws64n7K34luj"
   },
   "source": [
    "For this column, let's choose 4 bins so that we have four \"buckets\": \n",
    "\n",
    "- low;\n",
    "- medium low;\n",
    "- medium high;\n",
    "- high. "
   ]
  },
  {
   "cell_type": "code",
   "execution_count": 184,
   "metadata": {
    "colab": {},
    "colab_type": "code",
    "id": "0k3jIyB84luj",
    "outputId": "f4b32be8-b383-4b5b-ed60-6849c943a174"
   },
   "outputs": [
    {
     "data": {
      "text/plain": [
       "0        19.388824\n",
       "1        25.354615\n",
       "2        20.600625\n",
       "3        25.354615\n",
       "4        20.600625\n",
       "           ...    \n",
       "35947     9.155833\n",
       "35948     9.155833\n",
       "35949     9.155833\n",
       "35950     9.155833\n",
       "35951     9.417429\n",
       "Name: Fuel Barrels/Year, Length: 35952, dtype: float64"
      ]
     },
     "execution_count": 184,
     "metadata": {},
     "output_type": "execute_result"
    }
   ],
   "source": [
    "fuel = data['Fuel Barrels/Year']\n",
    "fuel"
   ]
  },
  {
   "cell_type": "markdown",
   "metadata": {
    "colab_type": "text",
    "id": "JgK_drdY4lul"
   },
   "source": [
    "Before binning the data, let us first examine the distribution of our data using a histogram. "
   ]
  },
  {
   "cell_type": "code",
   "execution_count": 139,
   "metadata": {
    "colab": {},
    "colab_type": "code",
    "id": "paFZXCiS4lum",
    "outputId": "9d4588a1-1f3b-40e8-a78f-6e603ddf597f"
   },
   "outputs": [
    {
     "data": {
      "text/plain": [
       "<matplotlib.axes._subplots.AxesSubplot at 0x7f91598209d0>"
      ]
     },
     "execution_count": 139,
     "metadata": {},
     "output_type": "execute_result"
    },
    {
     "data": {
      "image/png": "[encoded data removed]",
      "text/plain": [
       "<Figure size 1008x504 with 1 Axes>"
      ]
     },
     "metadata": {
      "needs_background": "light"
     },
     "output_type": "display_data"
    }
   ],
   "source": [
    "plt.figure(figsize=(14,7))\n",
    "fuel.hist(bins=100)  "
   ]
  },
  {
   "cell_type": "markdown",
   "metadata": {
    "colab_type": "text",
    "id": "lqNt6vPF4luo"
   },
   "source": [
    "Now that we've examined this variable, let us make the bins. We can create the bins using the pd.cut method. "
   ]
  },
  {
   "cell_type": "code",
   "execution_count": 185,
   "metadata": {
    "colab": {},
    "colab_type": "code",
    "id": "BoYTBYth4luo",
    "outputId": "9dad18a1-2262-4612-97a6-1ffc8032cb92"
   },
   "outputs": [
    {
     "data": {
      "text/plain": [
       "(11.817, 23.574]    30566\n",
       "(23.574, 35.33]      2665\n",
       "(0.013, 11.817]      2659\n",
       "(35.33, 47.087]        62\n",
       "Name: Fuel Barrels/Year, dtype: int64"
      ]
     },
     "execution_count": 185,
     "metadata": {},
     "output_type": "execute_result"
    }
   ],
   "source": [
    "pd.cut(fuel, 4).value_counts() "
   ]
  },
  {
   "cell_type": "code",
   "execution_count": 141,
   "metadata": {
    "colab": {},
    "colab_type": "code",
    "id": "E7S3qIbs4lus",
    "outputId": "48c1b094-6628-4d64-c828-19e64d593aca"
   },
   "outputs": [
    {
     "data": {
      "text/plain": [
       "23.573571428571427"
      ]
     },
     "execution_count": 141,
     "metadata": {},
     "output_type": "execute_result"
    }
   ],
   "source": [
    "mid_point = ((fuel.min() + fuel.max()) / 2) \n",
    "mid_point "
   ]
  },
  {
   "cell_type": "code",
   "execution_count": 142,
   "metadata": {
    "colab": {},
    "colab_type": "code",
    "id": "Tt_MFhX_4luu",
    "outputId": "d33fbe3a-353b-47b5-fea1-eb194712f6a9"
   },
   "outputs": [
    {
     "data": {
      "text/plain": [
       "11.786785714285713"
      ]
     },
     "execution_count": 142,
     "metadata": {},
     "output_type": "execute_result"
    }
   ],
   "source": [
    "mid_point / 2"
   ]
  },
  {
   "cell_type": "markdown",
   "metadata": {
    "colab_type": "text",
    "id": "-TmbEY2B4luw"
   },
   "source": [
    "Let us know look at what our histogram looks like with these 4 bins.  "
   ]
  },
  {
   "cell_type": "code",
   "execution_count": 143,
   "metadata": {
    "colab": {},
    "colab_type": "code",
    "id": "oxdmlpqm4luw",
    "outputId": "30f74c21-e1b6-47e4-c001-ef7193942e00"
   },
   "outputs": [
    {
     "data": {
      "text/plain": [
       "<matplotlib.axes._subplots.AxesSubplot at 0x7f915ca0d410>"
      ]
     },
     "execution_count": 143,
     "metadata": {},
     "output_type": "execute_result"
    },
    {
     "data": {
      "image/png": "[encoded data removed]",
      "text/plain": [
       "<Figure size 1080x576 with 1 Axes>"
      ]
     },
     "metadata": {
      "needs_background": "light"
     },
     "output_type": "display_data"
    }
   ],
   "source": [
    "plt.figure(figsize=(15,8))\n",
    "fuel.hist(bins=4) "
   ]
  },
  {
   "cell_type": "markdown",
   "metadata": {
    "colab_type": "text",
    "id": "S7dHWFCM4luz"
   },
   "source": [
    "Instead of cut, which bins based on the intermediate values in a particular value range, we can also use the qcut method which cuts the data based on the **quantiles**. If you want baskets (i.e. bins) that are roughly equally sized, you can use the qcut method. "
   ]
  },
  {
   "cell_type": "code",
   "execution_count": 144,
   "metadata": {
    "colab": {},
    "colab_type": "code",
    "id": "QE-YoBUB4luz",
    "outputId": "0a60d5d8-be3d-4f78-f862-42dec0b88ca6"
   },
   "outputs": [
    {
     "data": {
      "text/plain": [
       "<matplotlib.axes._subplots.AxesSubplot at 0x7f915ca0d790>"
      ]
     },
     "execution_count": 144,
     "metadata": {},
     "output_type": "execute_result"
    },
    {
     "data": {
      "image/png": "[encoded data removed]",
      "text/plain": [
       "<Figure size 1008x504 with 1 Axes>"
      ]
     },
     "metadata": {
      "needs_background": "light"
     },
     "output_type": "display_data"
    }
   ],
   "source": [
    "plt.figure(figsize=(14,7))\n",
    "fuel.hist(bins=100)  "
   ]
  },
  {
   "cell_type": "code",
   "execution_count": 145,
   "metadata": {
    "colab": {},
    "colab_type": "code",
    "id": "5g9XhSDl4lu1",
    "outputId": "7e41098d-e902-482a-93fe-a771c38cb8bd"
   },
   "outputs": [
    {
     "name": "stdout",
     "output_type": "stream",
     "text": [
      "(14.699, 17.348]    11675\n",
      "(0.059, 14.699]      9027\n",
      "(17.348, 20.601]     8170\n",
      "(20.601, 47.087]     7080\n",
      "Name: Fuel Barrels/Year, dtype: int64\n",
      "(11.817, 23.574]    30566\n",
      "(23.574, 35.33]      2665\n",
      "(0.013, 11.817]      2659\n",
      "(35.33, 47.087]        62\n",
      "Name: Fuel Barrels/Year, dtype: int64\n"
     ]
    }
   ],
   "source": [
    "#qcut for equally sized baskets\n",
    "print(pd.qcut(fuel, q = 4).value_counts())\n",
    "#cut is for emulating the bins\n",
    "print(pd.cut(fuel, 4).value_counts())"
   ]
  },
  {
   "cell_type": "code",
   "execution_count": 146,
   "metadata": {
    "colab": {},
    "colab_type": "code",
    "id": "P-5gzVtd4lu3",
    "outputId": "4f385255-56af-42a2-d7ae-9fd4fcadd65e"
   },
   "outputs": [
    {
     "data": {
      "text/plain": [
       "17.347894736842107"
      ]
     },
     "execution_count": 146,
     "metadata": {},
     "output_type": "execute_result"
    }
   ],
   "source": [
    "# 50% of data on one side and 50% of the data on the other side\n",
    "fuel.median() "
   ]
  },
  {
   "cell_type": "markdown",
   "metadata": {
    "colab_type": "text",
    "id": "SuRMIuSKRtoY"
   },
   "source": [
    "In Python, we can also create a list of labels that will be assigned to our bins."
   ]
  },
  {
   "cell_type": "code",
   "execution_count": 147,
   "metadata": {
    "colab": {},
    "colab_type": "code",
    "id": "e3fF8kjgRshM"
   },
   "outputs": [],
   "source": [
    "mpg_labels = ['Very Low', 'Low', 'Moderate', 'High', 'Very High']\n",
    "\n"
   ]
  },
  {
   "cell_type": "markdown",
   "metadata": {
    "colab_type": "text",
    "id": "GABiueQGR2wx"
   },
   "source": [
    "Next, we must determine how we want our data to be binned. As we talked about, there are three main approaches that we can choose from:\n",
    "\n",
    "- Equal width bins (cut): the range for each bin is the same size.\n",
    "- Equal frequency bins (qcut): approximately the same number of records in each bin.\n",
    "- Custom-sized bins: the user explicitly defines where they want the cutoff for each bin to be.\n",
    "\n",
    "As discussed before you want **equal width bins**, you can use the *cut* method in Pandas and pass it the column you want to bin, the number of bins and the list of labels."
   ]
  },
  {
   "cell_type": "code",
   "execution_count": 148,
   "metadata": {
    "colab": {},
    "colab_type": "code",
    "id": "Jj6OG2K84lu9",
    "outputId": "e8ed9cf8-c954-4a80-f20a-65b03fbf38c3"
   },
   "outputs": [
    {
     "data": {
      "text/plain": [
       "0        17\n",
       "1        13\n",
       "2        16\n",
       "3        13\n",
       "4        16\n",
       "         ..\n",
       "35947    36\n",
       "35948    36\n",
       "35949    36\n",
       "35950    36\n",
       "35951    35\n",
       "Name: Combined MPG, Length: 35952, dtype: int64"
      ]
     },
     "execution_count": 148,
     "metadata": {},
     "output_type": "execute_result"
    }
   ],
   "source": [
    "data['Combined MPG']"
   ]
  },
  {
   "cell_type": "code",
   "execution_count": 149,
   "metadata": {
    "colab": {},
    "colab_type": "code",
    "id": "TKL0Wlky4lu_",
    "outputId": "da5886e0-426d-431b-abfa-b8fff70c6493"
   },
   "outputs": [
    {
     "data": {
      "text/plain": [
       "0         Low\n",
       "1    Very Low\n",
       "2    Very Low\n",
       "3    Very Low\n",
       "4    Very Low\n",
       "5         Low\n",
       "6         Low\n",
       "7         Low\n",
       "8         Low\n",
       "9         Low\n",
       "Name: Combined MPG, dtype: category\n",
       "Categories (5, object): [Very Low < Low < Moderate < High < Very High]"
      ]
     },
     "execution_count": 149,
     "metadata": {},
     "output_type": "execute_result"
    }
   ],
   "source": [
    "# bin using cut with the labels above on data['Combined MPG']\n",
    "binned = pd.cut(data['Combined MPG'], 5, labels = mpg_labels)\n",
    "binned.head(10)"
   ]
  },
  {
   "cell_type": "markdown",
   "metadata": {
    "colab_type": "text",
    "id": "wYIo9UA6R99o"
   },
   "source": [
    "In this example, if you want **equal frequency bins**, you would use the *qcut* (quantile cut, Quantile-based discretization function) method instead."
   ]
  },
  {
   "cell_type": "code",
   "execution_count": 150,
   "metadata": {
    "colab": {},
    "colab_type": "code",
    "id": "wf6sEspW4lvC",
    "outputId": "cdc2633e-2434-4582-9282-cf1d8c8b3d9b"
   },
   "outputs": [
    {
     "data": {
      "text/plain": [
       "0              Low\n",
       "1         Very Low\n",
       "2         Very Low\n",
       "3         Very Low\n",
       "4         Very Low\n",
       "           ...    \n",
       "35947    Very High\n",
       "35948    Very High\n",
       "35949    Very High\n",
       "35950    Very High\n",
       "35951    Very High\n",
       "Name: Combined MPG, Length: 35952, dtype: category\n",
       "Categories (5, object): [Very Low < Low < Moderate < High < Very High]"
      ]
     },
     "execution_count": 150,
     "metadata": {},
     "output_type": "execute_result"
    }
   ],
   "source": [
    "# bin using qcut with the labels above \n",
    "binned = pd.qcut(data['Combined MPG'], 5, labels = mpg_labels)\n",
    "binned "
   ]
  },
  {
   "cell_type": "markdown",
   "metadata": {
    "colab_type": "text",
    "id": "tl0EhWBw4lvF"
   },
   "source": [
    "Finally, if you want custom bin sizes, you can pass a list of bin range values to the cut method instead of the number of bins, and it will bin the values for you accordingly."
   ]
  },
  {
   "cell_type": "code",
   "execution_count": 151,
   "metadata": {
    "colab": {},
    "colab_type": "code",
    "id": "Tq9v2JHj4lvF",
    "outputId": "06ed4cb6-c052-4004-b3a5-75537ded7fde"
   },
   "outputs": [
    {
     "data": {
      "text/plain": [
       "0         Very Low\n",
       "1         Very Low\n",
       "2         Very Low\n",
       "3         Very Low\n",
       "4         Very Low\n",
       "           ...    \n",
       "35947    Very High\n",
       "35948    Very High\n",
       "35949    Very High\n",
       "35950    Very High\n",
       "35951    Very High\n",
       "Name: Combined MPG, Length: 35952, dtype: category\n",
       "Categories (5, object): [Very Low < Low < Moderate < High < Very High]"
      ]
     },
     "execution_count": 151,
     "metadata": {},
     "output_type": "execute_result"
    }
   ],
   "source": [
    "# make cut with specified cutoff values (note that here we will need to include lower bounds and uppers bounds)\n",
    "cutoffs = [7,17,21,23,30,47]\n",
    "binned = pd.cut(data['Combined MPG'], cutoffs, labels = mpg_labels)\n",
    "binned"
   ]
  },
  {
   "cell_type": "markdown",
   "metadata": {
    "colab_type": "text",
    "id": "h2fIvxlV4lvI"
   },
   "source": [
    "## Conditional Categories \n"
   ]
  },
  {
   "cell_type": "markdown",
   "metadata": {
    "colab_type": "text",
    "id": "f6tQ_QLFSIc0"
   },
   "source": [
    "\n",
    "Another way to create intuitive additional categories in your data is to create columns based on conditional statements. Earlier in this lesson, we filtered our data based on conditional statements. Here, we will populate the values in a column using the loc method.\n"
   ]
  },
  {
   "cell_type": "markdown",
   "metadata": {
    "colab_type": "text",
    "id": "CXP6uGpQ4lvJ"
   },
   "source": [
    "Our vehicles data set currently has 45 different values in the Transmission field, but one of the key pieces of information *embedded* in there is whether a vehicle has an automatic or manual transmission. "
   ]
  },
  {
   "cell_type": "code",
   "execution_count": 152,
   "metadata": {
    "colab": {},
    "colab_type": "code",
    "id": "Dx9K-NcO4lvJ",
    "outputId": "2bbbf82d-6ec8-44a0-b512-40df7f115407"
   },
   "outputs": [
    {
     "data": {
      "text/plain": [
       "Automatic 4-spd                     10585\n",
       "Manual 5-spd                         7787\n",
       "Automatic (S6)                       2631\n",
       "Automatic 3-spd                      2597\n",
       "Manual 6-spd                         2423\n",
       "Automatic 5-spd                      2171\n",
       "Automatic 6-spd                      1432\n",
       "Manual 4-spd                         1306\n",
       "Automatic (S8)                        960\n",
       "Automatic (S5)                        822\n",
       "Automatic (variable gear ratios)      675\n",
       "Automatic 7-spd                       662\n",
       "Automatic (S7)                        261\n",
       "Auto(AM-S7)                           256\n",
       "Automatic 8-spd                       243\n",
       "Automatic (S4)                        229\n",
       "Auto(AM7)                             157\n",
       "Auto(AV-S6)                           145\n",
       "Auto(AM6)                             110\n",
       "Auto(AM-S6)                            92\n",
       "Automatic 9-spd                        90\n",
       "Manual 3-spd                           74\n",
       "Manual 7-spd                           68\n",
       "Auto(AV-S7)                            63\n",
       "Automatic (S9)                         26\n",
       "Auto(AV-S8)                            26\n",
       "Auto(AM5)                              12\n",
       "Automatic (AV-S6)                       9\n",
       "Auto(AM-S8)                             6\n",
       "Auto(AM8)                               5\n",
       "Automatic (AV)                          4\n",
       "Automatic (A6)                          4\n",
       "Manual(M7)                              3\n",
       "Automatic (A1)                          3\n",
       "Auto(L3)                                2\n",
       "Automatic (AM5)                         2\n",
       "Auto(L4)                                2\n",
       "Auto (AV)                               2\n",
       "Automatic (AM6)                         1\n",
       "Auto(AM-S9)                             1\n",
       "Auto(A1)                                1\n",
       "Auto (AV-S8)                            1\n",
       "Manual 5 spd                            1\n",
       "Auto (AV-S6)                            1\n",
       "Automatic 6spd                          1\n",
       "Name: Transmission, dtype: int64"
      ]
     },
     "execution_count": 152,
     "metadata": {},
     "output_type": "execute_result"
    }
   ],
   "source": [
    "data[\"Transmission\"].value_counts() \n"
   ]
  },
  {
   "cell_type": "markdown",
   "metadata": {
    "colab_type": "text",
    "id": "89UgWo3j4lvL"
   },
   "source": [
    "It would therefore be valuable to extract that so that we could group vehicles by their transmission type. Let's look at how we can create a new TransType column that only contains one of two values for each vehicle: Automatic or Manual."
   ]
  },
  {
   "cell_type": "code",
   "execution_count": 153,
   "metadata": {
    "colab": {},
    "colab_type": "code",
    "id": "KNFzaA5f4lvL",
    "outputId": "09826a9c-d581-42de-a0e6-ba44b940869a"
   },
   "outputs": [
    {
     "data": {
      "text/html": [
       "<div>\n",
       "<style scoped>\n",
       "    .dataframe tbody tr th:only-of-type {\n",
       "        vertical-align: middle;\n",
       "    }\n",
       "\n",
       "    .dataframe tbody tr th {\n",
       "        vertical-align: top;\n",
       "    }\n",
       "\n",
       "    .dataframe thead th {\n",
       "        text-align: right;\n",
       "    }\n",
       "</style>\n",
       "<table border=\"1\" class=\"dataframe\">\n",
       "  <thead>\n",
       "    <tr style=\"text-align: right;\">\n",
       "      <th></th>\n",
       "      <th>Make</th>\n",
       "      <th>Model</th>\n",
       "      <th>Year</th>\n",
       "      <th>Engine Displacement</th>\n",
       "      <th>Cylinders</th>\n",
       "      <th>Transmission</th>\n",
       "      <th>Drivetrain</th>\n",
       "      <th>Vehicle Class</th>\n",
       "      <th>Fuel Type</th>\n",
       "      <th>Fuel Barrels/Year</th>\n",
       "      <th>City MPG</th>\n",
       "      <th>Highway MPG</th>\n",
       "      <th>Combined MPG</th>\n",
       "      <th>CO2 Emission Grams/Mile</th>\n",
       "      <th>Fuel Cost/Year</th>\n",
       "      <th>TransType</th>\n",
       "    </tr>\n",
       "  </thead>\n",
       "  <tbody>\n",
       "    <tr>\n",
       "      <td>0</td>\n",
       "      <td>AM General</td>\n",
       "      <td>DJ Po Vehicle 2WD</td>\n",
       "      <td>1984</td>\n",
       "      <td>2.5</td>\n",
       "      <td>4.0</td>\n",
       "      <td>Automatic 3-spd</td>\n",
       "      <td>2-Wheel Drive</td>\n",
       "      <td>Special Purpose Vehicle 2WD</td>\n",
       "      <td>Regular</td>\n",
       "      <td>19.388824</td>\n",
       "      <td>18</td>\n",
       "      <td>17</td>\n",
       "      <td>17</td>\n",
       "      <td>522.764706</td>\n",
       "      <td>1950</td>\n",
       "      <td>Automatic</td>\n",
       "    </tr>\n",
       "    <tr>\n",
       "      <td>1</td>\n",
       "      <td>AM General</td>\n",
       "      <td>FJ8c Post Office</td>\n",
       "      <td>1984</td>\n",
       "      <td>4.2</td>\n",
       "      <td>6.0</td>\n",
       "      <td>Automatic 3-spd</td>\n",
       "      <td>2-Wheel Drive</td>\n",
       "      <td>Special Purpose Vehicle 2WD</td>\n",
       "      <td>Regular</td>\n",
       "      <td>25.354615</td>\n",
       "      <td>13</td>\n",
       "      <td>13</td>\n",
       "      <td>13</td>\n",
       "      <td>683.615385</td>\n",
       "      <td>2550</td>\n",
       "      <td>Automatic</td>\n",
       "    </tr>\n",
       "    <tr>\n",
       "      <td>2</td>\n",
       "      <td>AM General</td>\n",
       "      <td>Post Office DJ5 2WD</td>\n",
       "      <td>1985</td>\n",
       "      <td>2.5</td>\n",
       "      <td>4.0</td>\n",
       "      <td>Automatic 3-spd</td>\n",
       "      <td>Rear-Wheel Drive</td>\n",
       "      <td>Special Purpose Vehicle 2WD</td>\n",
       "      <td>Regular</td>\n",
       "      <td>20.600625</td>\n",
       "      <td>16</td>\n",
       "      <td>17</td>\n",
       "      <td>16</td>\n",
       "      <td>555.437500</td>\n",
       "      <td>2100</td>\n",
       "      <td>Automatic</td>\n",
       "    </tr>\n",
       "    <tr>\n",
       "      <td>3</td>\n",
       "      <td>AM General</td>\n",
       "      <td>Post Office DJ8 2WD</td>\n",
       "      <td>1985</td>\n",
       "      <td>4.2</td>\n",
       "      <td>6.0</td>\n",
       "      <td>Automatic 3-spd</td>\n",
       "      <td>Rear-Wheel Drive</td>\n",
       "      <td>Special Purpose Vehicle 2WD</td>\n",
       "      <td>Regular</td>\n",
       "      <td>25.354615</td>\n",
       "      <td>13</td>\n",
       "      <td>13</td>\n",
       "      <td>13</td>\n",
       "      <td>683.615385</td>\n",
       "      <td>2550</td>\n",
       "      <td>Automatic</td>\n",
       "    </tr>\n",
       "    <tr>\n",
       "      <td>4</td>\n",
       "      <td>ASC Incorporated</td>\n",
       "      <td>GNX</td>\n",
       "      <td>1987</td>\n",
       "      <td>3.8</td>\n",
       "      <td>6.0</td>\n",
       "      <td>Automatic 4-spd</td>\n",
       "      <td>Rear-Wheel Drive</td>\n",
       "      <td>Midsize Cars</td>\n",
       "      <td>Premium</td>\n",
       "      <td>20.600625</td>\n",
       "      <td>14</td>\n",
       "      <td>21</td>\n",
       "      <td>16</td>\n",
       "      <td>555.437500</td>\n",
       "      <td>2550</td>\n",
       "      <td>Automatic</td>\n",
       "    </tr>\n",
       "  </tbody>\n",
       "</table>\n",
       "</div>"
      ],
      "text/plain": [
       "               Make                Model  Year  Engine Displacement  \\\n",
       "0        AM General    DJ Po Vehicle 2WD  1984                  2.5   \n",
       "1        AM General     FJ8c Post Office  1984                  4.2   \n",
       "2        AM General  Post Office DJ5 2WD  1985                  2.5   \n",
       "3        AM General  Post Office DJ8 2WD  1985                  4.2   \n",
       "4  ASC Incorporated                  GNX  1987                  3.8   \n",
       "\n",
       "   Cylinders     Transmission        Drivetrain                Vehicle Class  \\\n",
       "0        4.0  Automatic 3-spd     2-Wheel Drive  Special Purpose Vehicle 2WD   \n",
       "1        6.0  Automatic 3-spd     2-Wheel Drive  Special Purpose Vehicle 2WD   \n",
       "2        4.0  Automatic 3-spd  Rear-Wheel Drive  Special Purpose Vehicle 2WD   \n",
       "3        6.0  Automatic 3-spd  Rear-Wheel Drive  Special Purpose Vehicle 2WD   \n",
       "4        6.0  Automatic 4-spd  Rear-Wheel Drive                 Midsize Cars   \n",
       "\n",
       "  Fuel Type  Fuel Barrels/Year  City MPG  Highway MPG  Combined MPG  \\\n",
       "0   Regular          19.388824        18           17            17   \n",
       "1   Regular          25.354615        13           13            13   \n",
       "2   Regular          20.600625        16           17            16   \n",
       "3   Regular          25.354615        13           13            13   \n",
       "4   Premium          20.600625        14           21            16   \n",
       "\n",
       "   CO2 Emission Grams/Mile  Fuel Cost/Year  TransType  \n",
       "0               522.764706            1950  Automatic  \n",
       "1               683.615385            2550  Automatic  \n",
       "2               555.437500            2100  Automatic  \n",
       "3               683.615385            2550  Automatic  \n",
       "4               555.437500            2550  Automatic  "
      ]
     },
     "execution_count": 153,
     "metadata": {},
     "output_type": "execute_result"
    }
   ],
   "source": [
    "# use.loc to select all instances whose transmission start with 'A' and those starting with 'M'. \n",
    "# assign 'Automatic' and 'Manual' to those, repectivly.\n",
    "\n",
    "data.loc[data['Transmission'].str.startswith('A'), 'TransType'] = 'Automatic'\n",
    "data.loc[data['Transmission'].str.startswith('M'), 'TransType'] = 'Manual'\n",
    "\n",
    "#data['TransType'].value_counts()\n",
    "data.head()"
   ]
  },
  {
   "cell_type": "code",
   "execution_count": 154,
   "metadata": {},
   "outputs": [],
   "source": [
    "data.loc[data['Transmission'].str.startswith('A'), 'TransType'] = 'Automatic'\n",
    "data.loc[data['Transmission'].str.startswith('M'), 'TransType'] = 'Manual'"
   ]
  },
  {
   "cell_type": "code",
   "execution_count": 155,
   "metadata": {},
   "outputs": [
    {
     "data": {
      "text/plain": [
       "Automatic 4-spd                     10585\n",
       "Manual 5-spd                         7787\n",
       "Automatic (S6)                       2631\n",
       "Automatic 3-spd                      2597\n",
       "Manual 6-spd                         2423\n",
       "Automatic 5-spd                      2171\n",
       "Automatic 6-spd                      1432\n",
       "Manual 4-spd                         1306\n",
       "Automatic (S8)                        960\n",
       "Automatic (S5)                        822\n",
       "Automatic (variable gear ratios)      675\n",
       "Automatic 7-spd                       662\n",
       "Automatic (S7)                        261\n",
       "Auto(AM-S7)                           256\n",
       "Automatic 8-spd                       243\n",
       "Automatic (S4)                        229\n",
       "Auto(AM7)                             157\n",
       "Auto(AV-S6)                           145\n",
       "Auto(AM6)                             110\n",
       "Auto(AM-S6)                            92\n",
       "Automatic 9-spd                        90\n",
       "Manual 3-spd                           74\n",
       "Manual 7-spd                           68\n",
       "Auto(AV-S7)                            63\n",
       "Automatic (S9)                         26\n",
       "Auto(AV-S8)                            26\n",
       "Auto(AM5)                              12\n",
       "Automatic (AV-S6)                       9\n",
       "Auto(AM-S8)                             6\n",
       "Auto(AM8)                               5\n",
       "Automatic (AV)                          4\n",
       "Automatic (A6)                          4\n",
       "Manual(M7)                              3\n",
       "Automatic (A1)                          3\n",
       "Auto(L3)                                2\n",
       "Automatic (AM5)                         2\n",
       "Auto(L4)                                2\n",
       "Auto (AV)                               2\n",
       "Automatic (AM6)                         1\n",
       "Auto(AM-S9)                             1\n",
       "Auto(A1)                                1\n",
       "Auto (AV-S8)                            1\n",
       "Manual 5 spd                            1\n",
       "Auto (AV-S6)                            1\n",
       "Automatic 6spd                          1\n",
       "Name: Transmission, dtype: int64"
      ]
     },
     "execution_count": 155,
     "metadata": {},
     "output_type": "execute_result"
    }
   ],
   "source": [
    "data[\"Transmission\"].value_counts() "
   ]
  },
  {
   "cell_type": "markdown",
   "metadata": {
    "colab_type": "text",
    "id": "ZjCOam7DSNgr"
   },
   "source": [
    "We were able to leverage the str.startswith method in our conditional statements such that whenever the value in the Transmission field started with an A, we would assign a TransType of Automatic, and when the value started with M, we would assign a TransType of Manual."
   ]
  },
  {
   "cell_type": "markdown",
   "metadata": {
    "colab_type": "text",
    "id": "kIUc5iWO4lvN"
   },
   "source": [
    "## One-hot-Encoding Variables\n"
   ]
  },
  {
   "cell_type": "markdown",
   "metadata": {
    "colab_type": "text",
    "id": "z_QRLUnsSSwp"
   },
   "source": [
    "\n",
    "One-hot encoding is a technique used to expand a single categorical column into as many columns as there are categories. "
   ]
  },
  {
   "cell_type": "markdown",
   "metadata": {
    "colab_type": "text",
    "id": "ImHblJkO4lvO"
   },
   "source": [
    "Each column contains a **1 if that record belongs to the category** and a **0 if it does not**. This is useful for performing analyses where you want to know whether something falls into a specific category or not. \n"
   ]
  },
  {
   "cell_type": "markdown",
   "metadata": {
    "colab_type": "text",
    "id": "foImvBYo4lvO"
   },
   "source": [
    "It will also be useful when you learn about machine learning, as one-hot encoding makes it easier for some algorithms to interpret and find patterns in categorical data."
   ]
  },
  {
   "cell_type": "markdown",
   "metadata": {
    "colab_type": "text",
    "id": "bU4VV13n4lvP"
   },
   "source": [
    "To perform one-hot encoding on a column, you can use the Pandas get_dummies method and pass it the column you would like to one-hot encode."
   ]
  },
  {
   "cell_type": "code",
   "execution_count": 156,
   "metadata": {
    "colab": {},
    "colab_type": "code",
    "id": "lt66cEF44lvP",
    "outputId": "38bb1593-3864-47ba-e68f-34eb1453b418"
   },
   "outputs": [
    {
     "data": {
      "text/plain": [
       "0        Regular\n",
       "1        Regular\n",
       "2        Regular\n",
       "3        Regular\n",
       "4        Premium\n",
       "          ...   \n",
       "35947    Premium\n",
       "35948    Premium\n",
       "35949    Premium\n",
       "35950    Premium\n",
       "35951    Premium\n",
       "Name: Fuel Type, Length: 35952, dtype: object"
      ]
     },
     "execution_count": 156,
     "metadata": {},
     "output_type": "execute_result"
    }
   ],
   "source": [
    "data['Fuel Type'] #.value_counts()"
   ]
  },
  {
   "cell_type": "code",
   "execution_count": 157,
   "metadata": {},
   "outputs": [
    {
     "data": {
      "text/plain": [
       "Regular                        23587\n",
       "Premium                         9921\n",
       "Gasoline or E85                 1195\n",
       "Diesel                           911\n",
       "Premium or E85                   121\n",
       "Midgrade                          74\n",
       "CNG                               60\n",
       "Premium and Electricity           20\n",
       "Gasoline or natural gas           20\n",
       "Premium Gas or Electricity        17\n",
       "Regular Gas and Electricity       16\n",
       "Gasoline or propane                8\n",
       "Regular Gas or Electricity         2\n",
       "Name: Fuel Type, dtype: int64"
      ]
     },
     "execution_count": 157,
     "metadata": {},
     "output_type": "execute_result"
    }
   ],
   "source": [
    "data['Fuel Type'].value_counts()"
   ]
  },
  {
   "cell_type": "code",
   "execution_count": 158,
   "metadata": {
    "colab": {
     "base_uri": "https://localhost:8080/",
     "height": 221
    },
    "colab_type": "code",
    "executionInfo": {
     "elapsed": 620,
     "status": "ok",
     "timestamp": 1580554654850,
     "user": {
      "displayName": "Louk Smalbil",
      "photoUrl": "https://lh3.googleusercontent.com/a-/AAuE7mDf0h-7dEMeyjYDwWKtGkQlLXC3IBwfxiDNyi0e=s64",
      "userId": "10422991521784029462"
     },
     "user_tz": -60
    },
    "id": "1bhRODHESRu3",
    "outputId": "c59806bc-596b-471e-f8fa-fe15f6f61e02"
   },
   "outputs": [
    {
     "data": {
      "text/html": [
       "<div>\n",
       "<style scoped>\n",
       "    .dataframe tbody tr th:only-of-type {\n",
       "        vertical-align: middle;\n",
       "    }\n",
       "\n",
       "    .dataframe tbody tr th {\n",
       "        vertical-align: top;\n",
       "    }\n",
       "\n",
       "    .dataframe thead th {\n",
       "        text-align: right;\n",
       "    }\n",
       "</style>\n",
       "<table border=\"1\" class=\"dataframe\">\n",
       "  <thead>\n",
       "    <tr style=\"text-align: right;\">\n",
       "      <th></th>\n",
       "      <th>CNG</th>\n",
       "      <th>Diesel</th>\n",
       "      <th>Gasoline or E85</th>\n",
       "      <th>Gasoline or natural gas</th>\n",
       "      <th>Gasoline or propane</th>\n",
       "      <th>Midgrade</th>\n",
       "      <th>Premium</th>\n",
       "      <th>Premium Gas or Electricity</th>\n",
       "      <th>Premium and Electricity</th>\n",
       "      <th>Premium or E85</th>\n",
       "      <th>Regular</th>\n",
       "      <th>Regular Gas and Electricity</th>\n",
       "      <th>Regular Gas or Electricity</th>\n",
       "    </tr>\n",
       "  </thead>\n",
       "  <tbody>\n",
       "    <tr>\n",
       "      <td>0</td>\n",
       "      <td>0</td>\n",
       "      <td>0</td>\n",
       "      <td>0</td>\n",
       "      <td>0</td>\n",
       "      <td>0</td>\n",
       "      <td>0</td>\n",
       "      <td>0</td>\n",
       "      <td>0</td>\n",
       "      <td>0</td>\n",
       "      <td>0</td>\n",
       "      <td>1</td>\n",
       "      <td>0</td>\n",
       "      <td>0</td>\n",
       "    </tr>\n",
       "    <tr>\n",
       "      <td>1</td>\n",
       "      <td>0</td>\n",
       "      <td>0</td>\n",
       "      <td>0</td>\n",
       "      <td>0</td>\n",
       "      <td>0</td>\n",
       "      <td>0</td>\n",
       "      <td>0</td>\n",
       "      <td>0</td>\n",
       "      <td>0</td>\n",
       "      <td>0</td>\n",
       "      <td>1</td>\n",
       "      <td>0</td>\n",
       "      <td>0</td>\n",
       "    </tr>\n",
       "    <tr>\n",
       "      <td>2</td>\n",
       "      <td>0</td>\n",
       "      <td>0</td>\n",
       "      <td>0</td>\n",
       "      <td>0</td>\n",
       "      <td>0</td>\n",
       "      <td>0</td>\n",
       "      <td>0</td>\n",
       "      <td>0</td>\n",
       "      <td>0</td>\n",
       "      <td>0</td>\n",
       "      <td>1</td>\n",
       "      <td>0</td>\n",
       "      <td>0</td>\n",
       "    </tr>\n",
       "    <tr>\n",
       "      <td>3</td>\n",
       "      <td>0</td>\n",
       "      <td>0</td>\n",
       "      <td>0</td>\n",
       "      <td>0</td>\n",
       "      <td>0</td>\n",
       "      <td>0</td>\n",
       "      <td>0</td>\n",
       "      <td>0</td>\n",
       "      <td>0</td>\n",
       "      <td>0</td>\n",
       "      <td>1</td>\n",
       "      <td>0</td>\n",
       "      <td>0</td>\n",
       "    </tr>\n",
       "    <tr>\n",
       "      <td>4</td>\n",
       "      <td>0</td>\n",
       "      <td>0</td>\n",
       "      <td>0</td>\n",
       "      <td>0</td>\n",
       "      <td>0</td>\n",
       "      <td>0</td>\n",
       "      <td>1</td>\n",
       "      <td>0</td>\n",
       "      <td>0</td>\n",
       "      <td>0</td>\n",
       "      <td>0</td>\n",
       "      <td>0</td>\n",
       "      <td>0</td>\n",
       "    </tr>\n",
       "    <tr>\n",
       "      <td>...</td>\n",
       "      <td>...</td>\n",
       "      <td>...</td>\n",
       "      <td>...</td>\n",
       "      <td>...</td>\n",
       "      <td>...</td>\n",
       "      <td>...</td>\n",
       "      <td>...</td>\n",
       "      <td>...</td>\n",
       "      <td>...</td>\n",
       "      <td>...</td>\n",
       "      <td>...</td>\n",
       "      <td>...</td>\n",
       "      <td>...</td>\n",
       "    </tr>\n",
       "    <tr>\n",
       "      <td>35947</td>\n",
       "      <td>0</td>\n",
       "      <td>0</td>\n",
       "      <td>0</td>\n",
       "      <td>0</td>\n",
       "      <td>0</td>\n",
       "      <td>0</td>\n",
       "      <td>1</td>\n",
       "      <td>0</td>\n",
       "      <td>0</td>\n",
       "      <td>0</td>\n",
       "      <td>0</td>\n",
       "      <td>0</td>\n",
       "      <td>0</td>\n",
       "    </tr>\n",
       "    <tr>\n",
       "      <td>35948</td>\n",
       "      <td>0</td>\n",
       "      <td>0</td>\n",
       "      <td>0</td>\n",
       "      <td>0</td>\n",
       "      <td>0</td>\n",
       "      <td>0</td>\n",
       "      <td>1</td>\n",
       "      <td>0</td>\n",
       "      <td>0</td>\n",
       "      <td>0</td>\n",
       "      <td>0</td>\n",
       "      <td>0</td>\n",
       "      <td>0</td>\n",
       "    </tr>\n",
       "    <tr>\n",
       "      <td>35949</td>\n",
       "      <td>0</td>\n",
       "      <td>0</td>\n",
       "      <td>0</td>\n",
       "      <td>0</td>\n",
       "      <td>0</td>\n",
       "      <td>0</td>\n",
       "      <td>1</td>\n",
       "      <td>0</td>\n",
       "      <td>0</td>\n",
       "      <td>0</td>\n",
       "      <td>0</td>\n",
       "      <td>0</td>\n",
       "      <td>0</td>\n",
       "    </tr>\n",
       "    <tr>\n",
       "      <td>35950</td>\n",
       "      <td>0</td>\n",
       "      <td>0</td>\n",
       "      <td>0</td>\n",
       "      <td>0</td>\n",
       "      <td>0</td>\n",
       "      <td>0</td>\n",
       "      <td>1</td>\n",
       "      <td>0</td>\n",
       "      <td>0</td>\n",
       "      <td>0</td>\n",
       "      <td>0</td>\n",
       "      <td>0</td>\n",
       "      <td>0</td>\n",
       "    </tr>\n",
       "    <tr>\n",
       "      <td>35951</td>\n",
       "      <td>0</td>\n",
       "      <td>0</td>\n",
       "      <td>0</td>\n",
       "      <td>0</td>\n",
       "      <td>0</td>\n",
       "      <td>0</td>\n",
       "      <td>1</td>\n",
       "      <td>0</td>\n",
       "      <td>0</td>\n",
       "      <td>0</td>\n",
       "      <td>0</td>\n",
       "      <td>0</td>\n",
       "      <td>0</td>\n",
       "    </tr>\n",
       "  </tbody>\n",
       "</table>\n",
       "<p>35952 rows × 13 columns</p>\n",
       "</div>"
      ],
      "text/plain": [
       "       CNG  Diesel  Gasoline or E85  Gasoline or natural gas  \\\n",
       "0        0       0                0                        0   \n",
       "1        0       0                0                        0   \n",
       "2        0       0                0                        0   \n",
       "3        0       0                0                        0   \n",
       "4        0       0                0                        0   \n",
       "...    ...     ...              ...                      ...   \n",
       "35947    0       0                0                        0   \n",
       "35948    0       0                0                        0   \n",
       "35949    0       0                0                        0   \n",
       "35950    0       0                0                        0   \n",
       "35951    0       0                0                        0   \n",
       "\n",
       "       Gasoline or propane  Midgrade  Premium  Premium Gas or Electricity  \\\n",
       "0                        0         0        0                           0   \n",
       "1                        0         0        0                           0   \n",
       "2                        0         0        0                           0   \n",
       "3                        0         0        0                           0   \n",
       "4                        0         0        1                           0   \n",
       "...                    ...       ...      ...                         ...   \n",
       "35947                    0         0        1                           0   \n",
       "35948                    0         0        1                           0   \n",
       "35949                    0         0        1                           0   \n",
       "35950                    0         0        1                           0   \n",
       "35951                    0         0        1                           0   \n",
       "\n",
       "       Premium and Electricity  Premium or E85  Regular  \\\n",
       "0                            0               0        1   \n",
       "1                            0               0        1   \n",
       "2                            0               0        1   \n",
       "3                            0               0        1   \n",
       "4                            0               0        0   \n",
       "...                        ...             ...      ...   \n",
       "35947                        0               0        0   \n",
       "35948                        0               0        0   \n",
       "35949                        0               0        0   \n",
       "35950                        0               0        0   \n",
       "35951                        0               0        0   \n",
       "\n",
       "       Regular Gas and Electricity  Regular Gas or Electricity  \n",
       "0                                0                           0  \n",
       "1                                0                           0  \n",
       "2                                0                           0  \n",
       "3                                0                           0  \n",
       "4                                0                           0  \n",
       "...                            ...                         ...  \n",
       "35947                            0                           0  \n",
       "35948                            0                           0  \n",
       "35949                            0                           0  \n",
       "35950                            0                           0  \n",
       "35951                            0                           0  \n",
       "\n",
       "[35952 rows x 13 columns]"
      ]
     },
     "execution_count": 158,
     "metadata": {},
     "output_type": "execute_result"
    }
   ],
   "source": [
    "# get dummies of the fuel type\n",
    "fuel_type = pd.get_dummies(data['Fuel Type'])\n",
    "fuel_type"
   ]
  },
  {
   "cell_type": "markdown",
   "metadata": {
    "colab_type": "text",
    "id": "6XB7SBKy4lvT"
   },
   "source": [
    "## Combining Data Frames\n"
   ]
  },
  {
   "cell_type": "markdown",
   "metadata": {
    "colab_type": "text",
    "id": "YCUUkM0_SbQ-"
   },
   "source": [
    "\n",
    "Another useful thing to do with data sets is to combine them. Pandas provides us with a few different ways to do this. The first way is by merging. Merging is similar to creating a join in SQL, where you can specify common fields between the two tables and then include information from both in your query. Pandas has a merge method that functions in a similar way.\n"
   ]
  },
  {
   "cell_type": "markdown",
   "metadata": {
    "colab_type": "text",
    "id": "iYoeCc4m4lvU"
   },
   "source": [
    "\n",
    "To illustrate, let's read in a data frame that has the average Combined MPG for each Make. We will merge that average into our data frame, joining on Make, so that we can see how fuel efficient a vehicle is in comparison to the other vehicles made by the same manufacturer."
   ]
  },
  {
   "cell_type": "code",
   "execution_count": 4,
   "metadata": {
    "colab": {
     "base_uri": "https://localhost:8080/",
     "height": 719
    },
    "colab_type": "code",
    "executionInfo": {
     "elapsed": 562,
     "status": "ok",
     "timestamp": 1580554657124,
     "user": {
      "displayName": "Louk Smalbil",
      "photoUrl": "https://lh3.googleusercontent.com/a-/AAuE7mDf0h-7dEMeyjYDwWKtGkQlLXC3IBwfxiDNyi0e=s64",
      "userId": "10422991521784029462"
     },
     "user_tz": -60
    },
    "id": "F1yF6en_SaXX",
    "outputId": "52389b08-e729-41b7-f7e7-97b9ed71228d"
   },
   "outputs": [
    {
     "data": {
      "text/html": [
       "<div>\n",
       "<style scoped>\n",
       "    .dataframe tbody tr th:only-of-type {\n",
       "        vertical-align: middle;\n",
       "    }\n",
       "\n",
       "    .dataframe tbody tr th {\n",
       "        vertical-align: top;\n",
       "    }\n",
       "\n",
       "    .dataframe thead th {\n",
       "        text-align: right;\n",
       "    }\n",
       "</style>\n",
       "<table border=\"1\" class=\"dataframe\">\n",
       "  <thead>\n",
       "    <tr style=\"text-align: right;\">\n",
       "      <th></th>\n",
       "      <th>Make</th>\n",
       "      <th>0</th>\n",
       "    </tr>\n",
       "  </thead>\n",
       "  <tbody>\n",
       "    <tr>\n",
       "      <th>0</th>\n",
       "      <td>AM General</td>\n",
       "      <td>15.000000</td>\n",
       "    </tr>\n",
       "    <tr>\n",
       "      <th>1</th>\n",
       "      <td>ASC Incorporated</td>\n",
       "      <td>17.500000</td>\n",
       "    </tr>\n",
       "    <tr>\n",
       "      <th>2</th>\n",
       "      <td>Acura</td>\n",
       "      <td>22.415563</td>\n",
       "    </tr>\n",
       "    <tr>\n",
       "      <th>3</th>\n",
       "      <td>Alfa Romeo</td>\n",
       "      <td>20.500000</td>\n",
       "    </tr>\n",
       "    <tr>\n",
       "      <th>4</th>\n",
       "      <td>American Motors Corporation</td>\n",
       "      <td>18.113636</td>\n",
       "    </tr>\n",
       "    <tr>\n",
       "      <th>...</th>\n",
       "      <td>...</td>\n",
       "      <td>...</td>\n",
       "    </tr>\n",
       "    <tr>\n",
       "      <th>122</th>\n",
       "      <td>Volkswagen</td>\n",
       "      <td>25.106017</td>\n",
       "    </tr>\n",
       "    <tr>\n",
       "      <th>123</th>\n",
       "      <td>Volvo</td>\n",
       "      <td>21.523013</td>\n",
       "    </tr>\n",
       "    <tr>\n",
       "      <th>124</th>\n",
       "      <td>Wallace Environmental</td>\n",
       "      <td>14.218750</td>\n",
       "    </tr>\n",
       "    <tr>\n",
       "      <th>125</th>\n",
       "      <td>Yugo</td>\n",
       "      <td>25.625000</td>\n",
       "    </tr>\n",
       "    <tr>\n",
       "      <th>126</th>\n",
       "      <td>smart</td>\n",
       "      <td>36.300000</td>\n",
       "    </tr>\n",
       "  </tbody>\n",
       "</table>\n",
       "<p>127 rows × 2 columns</p>\n",
       "</div>"
      ],
      "text/plain": [
       "                            Make          0\n",
       "0                     AM General  15.000000\n",
       "1               ASC Incorporated  17.500000\n",
       "2                          Acura  22.415563\n",
       "3                     Alfa Romeo  20.500000\n",
       "4    American Motors Corporation  18.113636\n",
       "..                           ...        ...\n",
       "122                   Volkswagen  25.106017\n",
       "123                        Volvo  21.523013\n",
       "124        Wallace Environmental  14.218750\n",
       "125                         Yugo  25.625000\n",
       "126                        smart  36.300000\n",
       "\n",
       "[127 rows x 2 columns]"
      ]
     },
     "execution_count": 4,
     "metadata": {},
     "output_type": "execute_result"
    }
   ],
   "source": [
    "avg_mpg = pd.read_csv('average_mpg.csv')\n",
    "avg_mpg   "
   ]
  },
  {
   "cell_type": "code",
   "execution_count": 160,
   "metadata": {
    "colab": {},
    "colab_type": "code",
    "id": "4gWhcLyM4lvX",
    "outputId": "25b4eed8-5dcc-4768-d16c-ca6bb33a384d"
   },
   "outputs": [
    {
     "data": {
      "text/html": [
       "<div>\n",
       "<style scoped>\n",
       "    .dataframe tbody tr th:only-of-type {\n",
       "        vertical-align: middle;\n",
       "    }\n",
       "\n",
       "    .dataframe tbody tr th {\n",
       "        vertical-align: top;\n",
       "    }\n",
       "\n",
       "    .dataframe thead th {\n",
       "        text-align: right;\n",
       "    }\n",
       "</style>\n",
       "<table border=\"1\" class=\"dataframe\">\n",
       "  <thead>\n",
       "    <tr style=\"text-align: right;\">\n",
       "      <th></th>\n",
       "      <th>Make</th>\n",
       "      <th>Model</th>\n",
       "      <th>Year</th>\n",
       "      <th>Engine Displacement</th>\n",
       "      <th>Cylinders</th>\n",
       "      <th>Transmission</th>\n",
       "      <th>Drivetrain</th>\n",
       "      <th>Vehicle Class</th>\n",
       "      <th>Fuel Type</th>\n",
       "      <th>Fuel Barrels/Year</th>\n",
       "      <th>City MPG</th>\n",
       "      <th>Highway MPG</th>\n",
       "      <th>Combined MPG</th>\n",
       "      <th>CO2 Emission Grams/Mile</th>\n",
       "      <th>Fuel Cost/Year</th>\n",
       "      <th>TransType</th>\n",
       "      <th>0</th>\n",
       "    </tr>\n",
       "  </thead>\n",
       "  <tbody>\n",
       "    <tr>\n",
       "      <td>0</td>\n",
       "      <td>AM General</td>\n",
       "      <td>DJ Po Vehicle 2WD</td>\n",
       "      <td>1984</td>\n",
       "      <td>2.5</td>\n",
       "      <td>4.0</td>\n",
       "      <td>Automatic 3-spd</td>\n",
       "      <td>2-Wheel Drive</td>\n",
       "      <td>Special Purpose Vehicle 2WD</td>\n",
       "      <td>Regular</td>\n",
       "      <td>19.388824</td>\n",
       "      <td>18</td>\n",
       "      <td>17</td>\n",
       "      <td>17</td>\n",
       "      <td>522.764706</td>\n",
       "      <td>1950</td>\n",
       "      <td>Automatic</td>\n",
       "      <td>15.0</td>\n",
       "    </tr>\n",
       "    <tr>\n",
       "      <td>1</td>\n",
       "      <td>AM General</td>\n",
       "      <td>FJ8c Post Office</td>\n",
       "      <td>1984</td>\n",
       "      <td>4.2</td>\n",
       "      <td>6.0</td>\n",
       "      <td>Automatic 3-spd</td>\n",
       "      <td>2-Wheel Drive</td>\n",
       "      <td>Special Purpose Vehicle 2WD</td>\n",
       "      <td>Regular</td>\n",
       "      <td>25.354615</td>\n",
       "      <td>13</td>\n",
       "      <td>13</td>\n",
       "      <td>13</td>\n",
       "      <td>683.615385</td>\n",
       "      <td>2550</td>\n",
       "      <td>Automatic</td>\n",
       "      <td>15.0</td>\n",
       "    </tr>\n",
       "    <tr>\n",
       "      <td>2</td>\n",
       "      <td>AM General</td>\n",
       "      <td>Post Office DJ5 2WD</td>\n",
       "      <td>1985</td>\n",
       "      <td>2.5</td>\n",
       "      <td>4.0</td>\n",
       "      <td>Automatic 3-spd</td>\n",
       "      <td>Rear-Wheel Drive</td>\n",
       "      <td>Special Purpose Vehicle 2WD</td>\n",
       "      <td>Regular</td>\n",
       "      <td>20.600625</td>\n",
       "      <td>16</td>\n",
       "      <td>17</td>\n",
       "      <td>16</td>\n",
       "      <td>555.437500</td>\n",
       "      <td>2100</td>\n",
       "      <td>Automatic</td>\n",
       "      <td>15.0</td>\n",
       "    </tr>\n",
       "    <tr>\n",
       "      <td>3</td>\n",
       "      <td>AM General</td>\n",
       "      <td>Post Office DJ8 2WD</td>\n",
       "      <td>1985</td>\n",
       "      <td>4.2</td>\n",
       "      <td>6.0</td>\n",
       "      <td>Automatic 3-spd</td>\n",
       "      <td>Rear-Wheel Drive</td>\n",
       "      <td>Special Purpose Vehicle 2WD</td>\n",
       "      <td>Regular</td>\n",
       "      <td>25.354615</td>\n",
       "      <td>13</td>\n",
       "      <td>13</td>\n",
       "      <td>13</td>\n",
       "      <td>683.615385</td>\n",
       "      <td>2550</td>\n",
       "      <td>Automatic</td>\n",
       "      <td>15.0</td>\n",
       "    </tr>\n",
       "    <tr>\n",
       "      <td>4</td>\n",
       "      <td>ASC Incorporated</td>\n",
       "      <td>GNX</td>\n",
       "      <td>1987</td>\n",
       "      <td>3.8</td>\n",
       "      <td>6.0</td>\n",
       "      <td>Automatic 4-spd</td>\n",
       "      <td>Rear-Wheel Drive</td>\n",
       "      <td>Midsize Cars</td>\n",
       "      <td>Premium</td>\n",
       "      <td>20.600625</td>\n",
       "      <td>14</td>\n",
       "      <td>21</td>\n",
       "      <td>16</td>\n",
       "      <td>555.437500</td>\n",
       "      <td>2550</td>\n",
       "      <td>Automatic</td>\n",
       "      <td>17.5</td>\n",
       "    </tr>\n",
       "    <tr>\n",
       "      <td>...</td>\n",
       "      <td>...</td>\n",
       "      <td>...</td>\n",
       "      <td>...</td>\n",
       "      <td>...</td>\n",
       "      <td>...</td>\n",
       "      <td>...</td>\n",
       "      <td>...</td>\n",
       "      <td>...</td>\n",
       "      <td>...</td>\n",
       "      <td>...</td>\n",
       "      <td>...</td>\n",
       "      <td>...</td>\n",
       "      <td>...</td>\n",
       "      <td>...</td>\n",
       "      <td>...</td>\n",
       "      <td>...</td>\n",
       "      <td>...</td>\n",
       "    </tr>\n",
       "    <tr>\n",
       "      <td>35947</td>\n",
       "      <td>smart</td>\n",
       "      <td>fortwo coupe</td>\n",
       "      <td>2013</td>\n",
       "      <td>1.0</td>\n",
       "      <td>3.0</td>\n",
       "      <td>Auto(AM5)</td>\n",
       "      <td>Rear-Wheel Drive</td>\n",
       "      <td>Two Seaters</td>\n",
       "      <td>Premium</td>\n",
       "      <td>9.155833</td>\n",
       "      <td>34</td>\n",
       "      <td>38</td>\n",
       "      <td>36</td>\n",
       "      <td>244.000000</td>\n",
       "      <td>1100</td>\n",
       "      <td>Automatic</td>\n",
       "      <td>36.3</td>\n",
       "    </tr>\n",
       "    <tr>\n",
       "      <td>35948</td>\n",
       "      <td>smart</td>\n",
       "      <td>fortwo coupe</td>\n",
       "      <td>2014</td>\n",
       "      <td>1.0</td>\n",
       "      <td>3.0</td>\n",
       "      <td>Auto(AM5)</td>\n",
       "      <td>Rear-Wheel Drive</td>\n",
       "      <td>Two Seaters</td>\n",
       "      <td>Premium</td>\n",
       "      <td>9.155833</td>\n",
       "      <td>34</td>\n",
       "      <td>38</td>\n",
       "      <td>36</td>\n",
       "      <td>243.000000</td>\n",
       "      <td>1100</td>\n",
       "      <td>Automatic</td>\n",
       "      <td>36.3</td>\n",
       "    </tr>\n",
       "    <tr>\n",
       "      <td>35949</td>\n",
       "      <td>smart</td>\n",
       "      <td>fortwo coupe</td>\n",
       "      <td>2015</td>\n",
       "      <td>1.0</td>\n",
       "      <td>3.0</td>\n",
       "      <td>Auto(AM5)</td>\n",
       "      <td>Rear-Wheel Drive</td>\n",
       "      <td>Two Seaters</td>\n",
       "      <td>Premium</td>\n",
       "      <td>9.155833</td>\n",
       "      <td>34</td>\n",
       "      <td>38</td>\n",
       "      <td>36</td>\n",
       "      <td>244.000000</td>\n",
       "      <td>1100</td>\n",
       "      <td>Automatic</td>\n",
       "      <td>36.3</td>\n",
       "    </tr>\n",
       "    <tr>\n",
       "      <td>35950</td>\n",
       "      <td>smart</td>\n",
       "      <td>fortwo coupe</td>\n",
       "      <td>2016</td>\n",
       "      <td>0.9</td>\n",
       "      <td>3.0</td>\n",
       "      <td>Auto(AM6)</td>\n",
       "      <td>Rear-Wheel Drive</td>\n",
       "      <td>Two Seaters</td>\n",
       "      <td>Premium</td>\n",
       "      <td>9.155833</td>\n",
       "      <td>34</td>\n",
       "      <td>39</td>\n",
       "      <td>36</td>\n",
       "      <td>246.000000</td>\n",
       "      <td>1100</td>\n",
       "      <td>Automatic</td>\n",
       "      <td>36.3</td>\n",
       "    </tr>\n",
       "    <tr>\n",
       "      <td>35951</td>\n",
       "      <td>smart</td>\n",
       "      <td>fortwo coupe</td>\n",
       "      <td>2016</td>\n",
       "      <td>0.9</td>\n",
       "      <td>3.0</td>\n",
       "      <td>Manual 5-spd</td>\n",
       "      <td>Rear-Wheel Drive</td>\n",
       "      <td>Two Seaters</td>\n",
       "      <td>Premium</td>\n",
       "      <td>9.417429</td>\n",
       "      <td>32</td>\n",
       "      <td>39</td>\n",
       "      <td>35</td>\n",
       "      <td>255.000000</td>\n",
       "      <td>1150</td>\n",
       "      <td>Manual</td>\n",
       "      <td>36.3</td>\n",
       "    </tr>\n",
       "  </tbody>\n",
       "</table>\n",
       "<p>35952 rows × 17 columns</p>\n",
       "</div>"
      ],
      "text/plain": [
       "                   Make                Model  Year  Engine Displacement  \\\n",
       "0            AM General    DJ Po Vehicle 2WD  1984                  2.5   \n",
       "1            AM General     FJ8c Post Office  1984                  4.2   \n",
       "2            AM General  Post Office DJ5 2WD  1985                  2.5   \n",
       "3            AM General  Post Office DJ8 2WD  1985                  4.2   \n",
       "4      ASC Incorporated                  GNX  1987                  3.8   \n",
       "...                 ...                  ...   ...                  ...   \n",
       "35947             smart         fortwo coupe  2013                  1.0   \n",
       "35948             smart         fortwo coupe  2014                  1.0   \n",
       "35949             smart         fortwo coupe  2015                  1.0   \n",
       "35950             smart         fortwo coupe  2016                  0.9   \n",
       "35951             smart         fortwo coupe  2016                  0.9   \n",
       "\n",
       "       Cylinders     Transmission        Drivetrain  \\\n",
       "0            4.0  Automatic 3-spd     2-Wheel Drive   \n",
       "1            6.0  Automatic 3-spd     2-Wheel Drive   \n",
       "2            4.0  Automatic 3-spd  Rear-Wheel Drive   \n",
       "3            6.0  Automatic 3-spd  Rear-Wheel Drive   \n",
       "4            6.0  Automatic 4-spd  Rear-Wheel Drive   \n",
       "...          ...              ...               ...   \n",
       "35947        3.0        Auto(AM5)  Rear-Wheel Drive   \n",
       "35948        3.0        Auto(AM5)  Rear-Wheel Drive   \n",
       "35949        3.0        Auto(AM5)  Rear-Wheel Drive   \n",
       "35950        3.0        Auto(AM6)  Rear-Wheel Drive   \n",
       "35951        3.0     Manual 5-spd  Rear-Wheel Drive   \n",
       "\n",
       "                     Vehicle Class Fuel Type  Fuel Barrels/Year  City MPG  \\\n",
       "0      Special Purpose Vehicle 2WD   Regular          19.388824        18   \n",
       "1      Special Purpose Vehicle 2WD   Regular          25.354615        13   \n",
       "2      Special Purpose Vehicle 2WD   Regular          20.600625        16   \n",
       "3      Special Purpose Vehicle 2WD   Regular          25.354615        13   \n",
       "4                     Midsize Cars   Premium          20.600625        14   \n",
       "...                            ...       ...                ...       ...   \n",
       "35947                  Two Seaters   Premium           9.155833        34   \n",
       "35948                  Two Seaters   Premium           9.155833        34   \n",
       "35949                  Two Seaters   Premium           9.155833        34   \n",
       "35950                  Two Seaters   Premium           9.155833        34   \n",
       "35951                  Two Seaters   Premium           9.417429        32   \n",
       "\n",
       "       Highway MPG  Combined MPG  CO2 Emission Grams/Mile  Fuel Cost/Year  \\\n",
       "0               17            17               522.764706            1950   \n",
       "1               13            13               683.615385            2550   \n",
       "2               17            16               555.437500            2100   \n",
       "3               13            13               683.615385            2550   \n",
       "4               21            16               555.437500            2550   \n",
       "...            ...           ...                      ...             ...   \n",
       "35947           38            36               244.000000            1100   \n",
       "35948           38            36               243.000000            1100   \n",
       "35949           38            36               244.000000            1100   \n",
       "35950           39            36               246.000000            1100   \n",
       "35951           39            35               255.000000            1150   \n",
       "\n",
       "       TransType     0  \n",
       "0      Automatic  15.0  \n",
       "1      Automatic  15.0  \n",
       "2      Automatic  15.0  \n",
       "3      Automatic  15.0  \n",
       "4      Automatic  17.5  \n",
       "...          ...   ...  \n",
       "35947  Automatic  36.3  \n",
       "35948  Automatic  36.3  \n",
       "35949  Automatic  36.3  \n",
       "35950  Automatic  36.3  \n",
       "35951     Manual  36.3  \n",
       "\n",
       "[35952 rows x 17 columns]"
      ]
     },
     "execution_count": 160,
     "metadata": {},
     "output_type": "execute_result"
    }
   ],
   "source": [
    "# merge data and avg_mpg on 'Make'\n",
    "data.merge(avg_mpg, on = 'Make') # OR reversed avg_mpg.merge(data, on = 'Make')"
   ]
  },
  {
   "cell_type": "markdown",
   "metadata": {
    "colab_type": "text",
    "id": "DBkA5RTGSgwJ"
   },
   "source": [
    "Another method that Pandas provides for combining data sets is concatenation. The pandas concat method lets you attach columns or rows from one data set onto another data set as long as both data sets have the same number of rows (if you are concatenating columns) or columns (if you are concatenating rows). Let's take a look at examples for each of these.\n",
    "\n"
   ]
  },
  {
   "cell_type": "markdown",
   "metadata": {
    "colab_type": "text",
    "id": "i22-Ekis4lva"
   },
   "source": [
    "For column concatenation, we can use the one-hot encoded drivetrain data frame we created earlier and add those columns to our vehicles data set. Note that the data frames passed to the concat method must be in a list and you set the axis parameter to 1 in order to indicate that you are concatenating columns."
   ]
  },
  {
   "cell_type": "code",
   "execution_count": 161,
   "metadata": {
    "colab": {},
    "colab_type": "code",
    "id": "mUuRtyfU4lva"
   },
   "outputs": [],
   "source": [
    "# split data frame \n",
    "other = data[['Make', 'Year', 'Model']]"
   ]
  },
  {
   "cell_type": "code",
   "execution_count": 162,
   "metadata": {
    "colab": {},
    "colab_type": "code",
    "id": "obLtubfN4lvc",
    "outputId": "a362e322-e893-49e2-a243-3b446b8fe58e"
   },
   "outputs": [
    {
     "data": {
      "text/html": [
       "<div>\n",
       "<style scoped>\n",
       "    .dataframe tbody tr th:only-of-type {\n",
       "        vertical-align: middle;\n",
       "    }\n",
       "\n",
       "    .dataframe tbody tr th {\n",
       "        vertical-align: top;\n",
       "    }\n",
       "\n",
       "    .dataframe thead th {\n",
       "        text-align: right;\n",
       "    }\n",
       "</style>\n",
       "<table border=\"1\" class=\"dataframe\">\n",
       "  <thead>\n",
       "    <tr style=\"text-align: right;\">\n",
       "      <th></th>\n",
       "      <th>CNG</th>\n",
       "      <th>Diesel</th>\n",
       "      <th>Gasoline or E85</th>\n",
       "      <th>Gasoline or natural gas</th>\n",
       "      <th>Gasoline or propane</th>\n",
       "      <th>Midgrade</th>\n",
       "      <th>Premium</th>\n",
       "      <th>Premium Gas or Electricity</th>\n",
       "      <th>Premium and Electricity</th>\n",
       "      <th>Premium or E85</th>\n",
       "      <th>Regular</th>\n",
       "      <th>Regular Gas and Electricity</th>\n",
       "      <th>Regular Gas or Electricity</th>\n",
       "    </tr>\n",
       "  </thead>\n",
       "  <tbody>\n",
       "    <tr>\n",
       "      <td>0</td>\n",
       "      <td>0</td>\n",
       "      <td>0</td>\n",
       "      <td>0</td>\n",
       "      <td>0</td>\n",
       "      <td>0</td>\n",
       "      <td>0</td>\n",
       "      <td>0</td>\n",
       "      <td>0</td>\n",
       "      <td>0</td>\n",
       "      <td>0</td>\n",
       "      <td>1</td>\n",
       "      <td>0</td>\n",
       "      <td>0</td>\n",
       "    </tr>\n",
       "    <tr>\n",
       "      <td>1</td>\n",
       "      <td>0</td>\n",
       "      <td>0</td>\n",
       "      <td>0</td>\n",
       "      <td>0</td>\n",
       "      <td>0</td>\n",
       "      <td>0</td>\n",
       "      <td>0</td>\n",
       "      <td>0</td>\n",
       "      <td>0</td>\n",
       "      <td>0</td>\n",
       "      <td>1</td>\n",
       "      <td>0</td>\n",
       "      <td>0</td>\n",
       "    </tr>\n",
       "    <tr>\n",
       "      <td>2</td>\n",
       "      <td>0</td>\n",
       "      <td>0</td>\n",
       "      <td>0</td>\n",
       "      <td>0</td>\n",
       "      <td>0</td>\n",
       "      <td>0</td>\n",
       "      <td>0</td>\n",
       "      <td>0</td>\n",
       "      <td>0</td>\n",
       "      <td>0</td>\n",
       "      <td>1</td>\n",
       "      <td>0</td>\n",
       "      <td>0</td>\n",
       "    </tr>\n",
       "    <tr>\n",
       "      <td>3</td>\n",
       "      <td>0</td>\n",
       "      <td>0</td>\n",
       "      <td>0</td>\n",
       "      <td>0</td>\n",
       "      <td>0</td>\n",
       "      <td>0</td>\n",
       "      <td>0</td>\n",
       "      <td>0</td>\n",
       "      <td>0</td>\n",
       "      <td>0</td>\n",
       "      <td>1</td>\n",
       "      <td>0</td>\n",
       "      <td>0</td>\n",
       "    </tr>\n",
       "    <tr>\n",
       "      <td>4</td>\n",
       "      <td>0</td>\n",
       "      <td>0</td>\n",
       "      <td>0</td>\n",
       "      <td>0</td>\n",
       "      <td>0</td>\n",
       "      <td>0</td>\n",
       "      <td>1</td>\n",
       "      <td>0</td>\n",
       "      <td>0</td>\n",
       "      <td>0</td>\n",
       "      <td>0</td>\n",
       "      <td>0</td>\n",
       "      <td>0</td>\n",
       "    </tr>\n",
       "  </tbody>\n",
       "</table>\n",
       "</div>"
      ],
      "text/plain": [
       "   CNG  Diesel  Gasoline or E85  Gasoline or natural gas  Gasoline or propane  \\\n",
       "0    0       0                0                        0                    0   \n",
       "1    0       0                0                        0                    0   \n",
       "2    0       0                0                        0                    0   \n",
       "3    0       0                0                        0                    0   \n",
       "4    0       0                0                        0                    0   \n",
       "\n",
       "   Midgrade  Premium  Premium Gas or Electricity  Premium and Electricity  \\\n",
       "0         0        0                           0                        0   \n",
       "1         0        0                           0                        0   \n",
       "2         0        0                           0                        0   \n",
       "3         0        0                           0                        0   \n",
       "4         0        1                           0                        0   \n",
       "\n",
       "   Premium or E85  Regular  Regular Gas and Electricity  \\\n",
       "0               0        1                            0   \n",
       "1               0        1                            0   \n",
       "2               0        1                            0   \n",
       "3               0        1                            0   \n",
       "4               0        0                            0   \n",
       "\n",
       "   Regular Gas or Electricity  \n",
       "0                           0  \n",
       "1                           0  \n",
       "2                           0  \n",
       "3                           0  \n",
       "4                           0  "
      ]
     },
     "execution_count": 162,
     "metadata": {},
     "output_type": "execute_result"
    }
   ],
   "source": [
    "fuel_type.head()"
   ]
  },
  {
   "cell_type": "code",
   "execution_count": 163,
   "metadata": {
    "colab": {},
    "colab_type": "code",
    "id": "4Mcb3ze24lve",
    "outputId": "7e8f02ae-329c-48b8-bd51-4d357eea10ff"
   },
   "outputs": [
    {
     "data": {
      "text/html": [
       "<div>\n",
       "<style scoped>\n",
       "    .dataframe tbody tr th:only-of-type {\n",
       "        vertical-align: middle;\n",
       "    }\n",
       "\n",
       "    .dataframe tbody tr th {\n",
       "        vertical-align: top;\n",
       "    }\n",
       "\n",
       "    .dataframe thead th {\n",
       "        text-align: right;\n",
       "    }\n",
       "</style>\n",
       "<table border=\"1\" class=\"dataframe\">\n",
       "  <thead>\n",
       "    <tr style=\"text-align: right;\">\n",
       "      <th></th>\n",
       "      <th>Make</th>\n",
       "      <th>Year</th>\n",
       "      <th>Model</th>\n",
       "    </tr>\n",
       "  </thead>\n",
       "  <tbody>\n",
       "    <tr>\n",
       "      <td>0</td>\n",
       "      <td>AM General</td>\n",
       "      <td>1984</td>\n",
       "      <td>DJ Po Vehicle 2WD</td>\n",
       "    </tr>\n",
       "    <tr>\n",
       "      <td>1</td>\n",
       "      <td>AM General</td>\n",
       "      <td>1984</td>\n",
       "      <td>FJ8c Post Office</td>\n",
       "    </tr>\n",
       "    <tr>\n",
       "      <td>2</td>\n",
       "      <td>AM General</td>\n",
       "      <td>1985</td>\n",
       "      <td>Post Office DJ5 2WD</td>\n",
       "    </tr>\n",
       "    <tr>\n",
       "      <td>3</td>\n",
       "      <td>AM General</td>\n",
       "      <td>1985</td>\n",
       "      <td>Post Office DJ8 2WD</td>\n",
       "    </tr>\n",
       "    <tr>\n",
       "      <td>4</td>\n",
       "      <td>ASC Incorporated</td>\n",
       "      <td>1987</td>\n",
       "      <td>GNX</td>\n",
       "    </tr>\n",
       "  </tbody>\n",
       "</table>\n",
       "</div>"
      ],
      "text/plain": [
       "               Make  Year                Model\n",
       "0        AM General  1984    DJ Po Vehicle 2WD\n",
       "1        AM General  1984     FJ8c Post Office\n",
       "2        AM General  1985  Post Office DJ5 2WD\n",
       "3        AM General  1985  Post Office DJ8 2WD\n",
       "4  ASC Incorporated  1987                  GNX"
      ]
     },
     "execution_count": 163,
     "metadata": {},
     "output_type": "execute_result"
    }
   ],
   "source": [
    "other.head()"
   ]
  },
  {
   "cell_type": "code",
   "execution_count": 164,
   "metadata": {
    "colab": {},
    "colab_type": "code",
    "id": "TduwNJxH4lvi",
    "outputId": "bba0d660-374b-4099-a4ba-e441d605d315"
   },
   "outputs": [
    {
     "data": {
      "text/html": [
       "<div>\n",
       "<style scoped>\n",
       "    .dataframe tbody tr th:only-of-type {\n",
       "        vertical-align: middle;\n",
       "    }\n",
       "\n",
       "    .dataframe tbody tr th {\n",
       "        vertical-align: top;\n",
       "    }\n",
       "\n",
       "    .dataframe thead th {\n",
       "        text-align: right;\n",
       "    }\n",
       "</style>\n",
       "<table border=\"1\" class=\"dataframe\">\n",
       "  <thead>\n",
       "    <tr style=\"text-align: right;\">\n",
       "      <th></th>\n",
       "      <th>Make</th>\n",
       "      <th>Year</th>\n",
       "      <th>Model</th>\n",
       "      <th>CNG</th>\n",
       "      <th>Diesel</th>\n",
       "      <th>Gasoline or E85</th>\n",
       "      <th>Gasoline or natural gas</th>\n",
       "      <th>Gasoline or propane</th>\n",
       "      <th>Midgrade</th>\n",
       "      <th>Premium</th>\n",
       "      <th>Premium Gas or Electricity</th>\n",
       "      <th>Premium and Electricity</th>\n",
       "      <th>Premium or E85</th>\n",
       "      <th>Regular</th>\n",
       "      <th>Regular Gas and Electricity</th>\n",
       "      <th>Regular Gas or Electricity</th>\n",
       "    </tr>\n",
       "  </thead>\n",
       "  <tbody>\n",
       "    <tr>\n",
       "      <td>0</td>\n",
       "      <td>AM General</td>\n",
       "      <td>1984</td>\n",
       "      <td>DJ Po Vehicle 2WD</td>\n",
       "      <td>0</td>\n",
       "      <td>0</td>\n",
       "      <td>0</td>\n",
       "      <td>0</td>\n",
       "      <td>0</td>\n",
       "      <td>0</td>\n",
       "      <td>0</td>\n",
       "      <td>0</td>\n",
       "      <td>0</td>\n",
       "      <td>0</td>\n",
       "      <td>1</td>\n",
       "      <td>0</td>\n",
       "      <td>0</td>\n",
       "    </tr>\n",
       "    <tr>\n",
       "      <td>1</td>\n",
       "      <td>AM General</td>\n",
       "      <td>1984</td>\n",
       "      <td>FJ8c Post Office</td>\n",
       "      <td>0</td>\n",
       "      <td>0</td>\n",
       "      <td>0</td>\n",
       "      <td>0</td>\n",
       "      <td>0</td>\n",
       "      <td>0</td>\n",
       "      <td>0</td>\n",
       "      <td>0</td>\n",
       "      <td>0</td>\n",
       "      <td>0</td>\n",
       "      <td>1</td>\n",
       "      <td>0</td>\n",
       "      <td>0</td>\n",
       "    </tr>\n",
       "    <tr>\n",
       "      <td>2</td>\n",
       "      <td>AM General</td>\n",
       "      <td>1985</td>\n",
       "      <td>Post Office DJ5 2WD</td>\n",
       "      <td>0</td>\n",
       "      <td>0</td>\n",
       "      <td>0</td>\n",
       "      <td>0</td>\n",
       "      <td>0</td>\n",
       "      <td>0</td>\n",
       "      <td>0</td>\n",
       "      <td>0</td>\n",
       "      <td>0</td>\n",
       "      <td>0</td>\n",
       "      <td>1</td>\n",
       "      <td>0</td>\n",
       "      <td>0</td>\n",
       "    </tr>\n",
       "    <tr>\n",
       "      <td>3</td>\n",
       "      <td>AM General</td>\n",
       "      <td>1985</td>\n",
       "      <td>Post Office DJ8 2WD</td>\n",
       "      <td>0</td>\n",
       "      <td>0</td>\n",
       "      <td>0</td>\n",
       "      <td>0</td>\n",
       "      <td>0</td>\n",
       "      <td>0</td>\n",
       "      <td>0</td>\n",
       "      <td>0</td>\n",
       "      <td>0</td>\n",
       "      <td>0</td>\n",
       "      <td>1</td>\n",
       "      <td>0</td>\n",
       "      <td>0</td>\n",
       "    </tr>\n",
       "    <tr>\n",
       "      <td>4</td>\n",
       "      <td>ASC Incorporated</td>\n",
       "      <td>1987</td>\n",
       "      <td>GNX</td>\n",
       "      <td>0</td>\n",
       "      <td>0</td>\n",
       "      <td>0</td>\n",
       "      <td>0</td>\n",
       "      <td>0</td>\n",
       "      <td>0</td>\n",
       "      <td>1</td>\n",
       "      <td>0</td>\n",
       "      <td>0</td>\n",
       "      <td>0</td>\n",
       "      <td>0</td>\n",
       "      <td>0</td>\n",
       "      <td>0</td>\n",
       "    </tr>\n",
       "    <tr>\n",
       "      <td>...</td>\n",
       "      <td>...</td>\n",
       "      <td>...</td>\n",
       "      <td>...</td>\n",
       "      <td>...</td>\n",
       "      <td>...</td>\n",
       "      <td>...</td>\n",
       "      <td>...</td>\n",
       "      <td>...</td>\n",
       "      <td>...</td>\n",
       "      <td>...</td>\n",
       "      <td>...</td>\n",
       "      <td>...</td>\n",
       "      <td>...</td>\n",
       "      <td>...</td>\n",
       "      <td>...</td>\n",
       "      <td>...</td>\n",
       "    </tr>\n",
       "    <tr>\n",
       "      <td>35947</td>\n",
       "      <td>smart</td>\n",
       "      <td>2013</td>\n",
       "      <td>fortwo coupe</td>\n",
       "      <td>0</td>\n",
       "      <td>0</td>\n",
       "      <td>0</td>\n",
       "      <td>0</td>\n",
       "      <td>0</td>\n",
       "      <td>0</td>\n",
       "      <td>1</td>\n",
       "      <td>0</td>\n",
       "      <td>0</td>\n",
       "      <td>0</td>\n",
       "      <td>0</td>\n",
       "      <td>0</td>\n",
       "      <td>0</td>\n",
       "    </tr>\n",
       "    <tr>\n",
       "      <td>35948</td>\n",
       "      <td>smart</td>\n",
       "      <td>2014</td>\n",
       "      <td>fortwo coupe</td>\n",
       "      <td>0</td>\n",
       "      <td>0</td>\n",
       "      <td>0</td>\n",
       "      <td>0</td>\n",
       "      <td>0</td>\n",
       "      <td>0</td>\n",
       "      <td>1</td>\n",
       "      <td>0</td>\n",
       "      <td>0</td>\n",
       "      <td>0</td>\n",
       "      <td>0</td>\n",
       "      <td>0</td>\n",
       "      <td>0</td>\n",
       "    </tr>\n",
       "    <tr>\n",
       "      <td>35949</td>\n",
       "      <td>smart</td>\n",
       "      <td>2015</td>\n",
       "      <td>fortwo coupe</td>\n",
       "      <td>0</td>\n",
       "      <td>0</td>\n",
       "      <td>0</td>\n",
       "      <td>0</td>\n",
       "      <td>0</td>\n",
       "      <td>0</td>\n",
       "      <td>1</td>\n",
       "      <td>0</td>\n",
       "      <td>0</td>\n",
       "      <td>0</td>\n",
       "      <td>0</td>\n",
       "      <td>0</td>\n",
       "      <td>0</td>\n",
       "    </tr>\n",
       "    <tr>\n",
       "      <td>35950</td>\n",
       "      <td>smart</td>\n",
       "      <td>2016</td>\n",
       "      <td>fortwo coupe</td>\n",
       "      <td>0</td>\n",
       "      <td>0</td>\n",
       "      <td>0</td>\n",
       "      <td>0</td>\n",
       "      <td>0</td>\n",
       "      <td>0</td>\n",
       "      <td>1</td>\n",
       "      <td>0</td>\n",
       "      <td>0</td>\n",
       "      <td>0</td>\n",
       "      <td>0</td>\n",
       "      <td>0</td>\n",
       "      <td>0</td>\n",
       "    </tr>\n",
       "    <tr>\n",
       "      <td>35951</td>\n",
       "      <td>smart</td>\n",
       "      <td>2016</td>\n",
       "      <td>fortwo coupe</td>\n",
       "      <td>0</td>\n",
       "      <td>0</td>\n",
       "      <td>0</td>\n",
       "      <td>0</td>\n",
       "      <td>0</td>\n",
       "      <td>0</td>\n",
       "      <td>1</td>\n",
       "      <td>0</td>\n",
       "      <td>0</td>\n",
       "      <td>0</td>\n",
       "      <td>0</td>\n",
       "      <td>0</td>\n",
       "      <td>0</td>\n",
       "    </tr>\n",
       "  </tbody>\n",
       "</table>\n",
       "<p>35952 rows × 16 columns</p>\n",
       "</div>"
      ],
      "text/plain": [
       "                   Make  Year                Model  CNG  Diesel  \\\n",
       "0            AM General  1984    DJ Po Vehicle 2WD    0       0   \n",
       "1            AM General  1984     FJ8c Post Office    0       0   \n",
       "2            AM General  1985  Post Office DJ5 2WD    0       0   \n",
       "3            AM General  1985  Post Office DJ8 2WD    0       0   \n",
       "4      ASC Incorporated  1987                  GNX    0       0   \n",
       "...                 ...   ...                  ...  ...     ...   \n",
       "35947             smart  2013         fortwo coupe    0       0   \n",
       "35948             smart  2014         fortwo coupe    0       0   \n",
       "35949             smart  2015         fortwo coupe    0       0   \n",
       "35950             smart  2016         fortwo coupe    0       0   \n",
       "35951             smart  2016         fortwo coupe    0       0   \n",
       "\n",
       "       Gasoline or E85  Gasoline or natural gas  Gasoline or propane  \\\n",
       "0                    0                        0                    0   \n",
       "1                    0                        0                    0   \n",
       "2                    0                        0                    0   \n",
       "3                    0                        0                    0   \n",
       "4                    0                        0                    0   \n",
       "...                ...                      ...                  ...   \n",
       "35947                0                        0                    0   \n",
       "35948                0                        0                    0   \n",
       "35949                0                        0                    0   \n",
       "35950                0                        0                    0   \n",
       "35951                0                        0                    0   \n",
       "\n",
       "       Midgrade  Premium  Premium Gas or Electricity  Premium and Electricity  \\\n",
       "0             0        0                           0                        0   \n",
       "1             0        0                           0                        0   \n",
       "2             0        0                           0                        0   \n",
       "3             0        0                           0                        0   \n",
       "4             0        1                           0                        0   \n",
       "...         ...      ...                         ...                      ...   \n",
       "35947         0        1                           0                        0   \n",
       "35948         0        1                           0                        0   \n",
       "35949         0        1                           0                        0   \n",
       "35950         0        1                           0                        0   \n",
       "35951         0        1                           0                        0   \n",
       "\n",
       "       Premium or E85  Regular  Regular Gas and Electricity  \\\n",
       "0                   0        1                            0   \n",
       "1                   0        1                            0   \n",
       "2                   0        1                            0   \n",
       "3                   0        1                            0   \n",
       "4                   0        0                            0   \n",
       "...               ...      ...                          ...   \n",
       "35947               0        0                            0   \n",
       "35948               0        0                            0   \n",
       "35949               0        0                            0   \n",
       "35950               0        0                            0   \n",
       "35951               0        0                            0   \n",
       "\n",
       "       Regular Gas or Electricity  \n",
       "0                               0  \n",
       "1                               0  \n",
       "2                               0  \n",
       "3                               0  \n",
       "4                               0  \n",
       "...                           ...  \n",
       "35947                           0  \n",
       "35948                           0  \n",
       "35949                           0  \n",
       "35950                           0  \n",
       "35951                           0  \n",
       "\n",
       "[35952 rows x 16 columns]"
      ]
     },
     "execution_count": 164,
     "metadata": {},
     "output_type": "execute_result"
    }
   ],
   "source": [
    "# concatenate here along axis=1\n",
    "pd.concat([other, fuel_type], axis= 1)"
   ]
  },
  {
   "cell_type": "markdown",
   "metadata": {
    "colab_type": "text",
    "id": "1p27ECqgSjJt"
   },
   "source": [
    "To illustrate row concatenation, let's create two new data frames based on conditional filters from our original data frame - one containing only Lexus vehicles and another containing only Audi vehicles. We will then combine them using the concat method into a lexus_audi data frame that contains only vehicles manufactured by those two companies."
   ]
  },
  {
   "cell_type": "code",
   "execution_count": 165,
   "metadata": {
    "colab": {},
    "colab_type": "code",
    "id": "X8d-AfoWSkya",
    "outputId": "4899c397-b244-4897-9a72-87f035d1a241"
   },
   "outputs": [
    {
     "data": {
      "text/html": [
       "<div>\n",
       "<style scoped>\n",
       "    .dataframe tbody tr th:only-of-type {\n",
       "        vertical-align: middle;\n",
       "    }\n",
       "\n",
       "    .dataframe tbody tr th {\n",
       "        vertical-align: top;\n",
       "    }\n",
       "\n",
       "    .dataframe thead th {\n",
       "        text-align: right;\n",
       "    }\n",
       "</style>\n",
       "<table border=\"1\" class=\"dataframe\">\n",
       "  <thead>\n",
       "    <tr style=\"text-align: right;\">\n",
       "      <th></th>\n",
       "      <th>Make</th>\n",
       "      <th>Model</th>\n",
       "      <th>Year</th>\n",
       "      <th>Engine Displacement</th>\n",
       "      <th>Cylinders</th>\n",
       "      <th>Transmission</th>\n",
       "      <th>Drivetrain</th>\n",
       "      <th>Vehicle Class</th>\n",
       "      <th>Fuel Type</th>\n",
       "      <th>Fuel Barrels/Year</th>\n",
       "      <th>City MPG</th>\n",
       "      <th>Highway MPG</th>\n",
       "      <th>Combined MPG</th>\n",
       "      <th>CO2 Emission Grams/Mile</th>\n",
       "      <th>Fuel Cost/Year</th>\n",
       "      <th>TransType</th>\n",
       "    </tr>\n",
       "  </thead>\n",
       "  <tbody>\n",
       "    <tr>\n",
       "      <td>21128</td>\n",
       "      <td>Lexus</td>\n",
       "      <td>CT 200h</td>\n",
       "      <td>2011</td>\n",
       "      <td>1.8</td>\n",
       "      <td>4.0</td>\n",
       "      <td>Automatic (variable gear ratios)</td>\n",
       "      <td>Front-Wheel Drive</td>\n",
       "      <td>Compact Cars</td>\n",
       "      <td>Regular</td>\n",
       "      <td>7.847857</td>\n",
       "      <td>43</td>\n",
       "      <td>40</td>\n",
       "      <td>42</td>\n",
       "      <td>211.595238</td>\n",
       "      <td>800</td>\n",
       "      <td>Automatic</td>\n",
       "    </tr>\n",
       "    <tr>\n",
       "      <td>21129</td>\n",
       "      <td>Lexus</td>\n",
       "      <td>CT 200h</td>\n",
       "      <td>2012</td>\n",
       "      <td>1.8</td>\n",
       "      <td>4.0</td>\n",
       "      <td>Automatic (variable gear ratios)</td>\n",
       "      <td>Front-Wheel Drive</td>\n",
       "      <td>Compact Cars</td>\n",
       "      <td>Regular</td>\n",
       "      <td>7.847857</td>\n",
       "      <td>43</td>\n",
       "      <td>40</td>\n",
       "      <td>42</td>\n",
       "      <td>211.595238</td>\n",
       "      <td>800</td>\n",
       "      <td>Automatic</td>\n",
       "    </tr>\n",
       "    <tr>\n",
       "      <td>21130</td>\n",
       "      <td>Lexus</td>\n",
       "      <td>CT 200h</td>\n",
       "      <td>2013</td>\n",
       "      <td>1.8</td>\n",
       "      <td>4.0</td>\n",
       "      <td>Automatic (variable gear ratios)</td>\n",
       "      <td>Front-Wheel Drive</td>\n",
       "      <td>Compact Cars</td>\n",
       "      <td>Regular</td>\n",
       "      <td>7.847857</td>\n",
       "      <td>43</td>\n",
       "      <td>40</td>\n",
       "      <td>42</td>\n",
       "      <td>211.000000</td>\n",
       "      <td>800</td>\n",
       "      <td>Automatic</td>\n",
       "    </tr>\n",
       "    <tr>\n",
       "      <td>21131</td>\n",
       "      <td>Lexus</td>\n",
       "      <td>CT 200h</td>\n",
       "      <td>2014</td>\n",
       "      <td>1.8</td>\n",
       "      <td>4.0</td>\n",
       "      <td>Automatic (variable gear ratios)</td>\n",
       "      <td>Front-Wheel Drive</td>\n",
       "      <td>Compact Cars</td>\n",
       "      <td>Regular</td>\n",
       "      <td>7.847857</td>\n",
       "      <td>43</td>\n",
       "      <td>40</td>\n",
       "      <td>42</td>\n",
       "      <td>179.000000</td>\n",
       "      <td>800</td>\n",
       "      <td>Automatic</td>\n",
       "    </tr>\n",
       "    <tr>\n",
       "      <td>21132</td>\n",
       "      <td>Lexus</td>\n",
       "      <td>CT 200h</td>\n",
       "      <td>2015</td>\n",
       "      <td>1.8</td>\n",
       "      <td>4.0</td>\n",
       "      <td>Automatic (variable gear ratios)</td>\n",
       "      <td>Front-Wheel Drive</td>\n",
       "      <td>Compact Cars</td>\n",
       "      <td>Regular</td>\n",
       "      <td>7.847857</td>\n",
       "      <td>43</td>\n",
       "      <td>40</td>\n",
       "      <td>42</td>\n",
       "      <td>211.000000</td>\n",
       "      <td>800</td>\n",
       "      <td>Automatic</td>\n",
       "    </tr>\n",
       "    <tr>\n",
       "      <td>...</td>\n",
       "      <td>...</td>\n",
       "      <td>...</td>\n",
       "      <td>...</td>\n",
       "      <td>...</td>\n",
       "      <td>...</td>\n",
       "      <td>...</td>\n",
       "      <td>...</td>\n",
       "      <td>...</td>\n",
       "      <td>...</td>\n",
       "      <td>...</td>\n",
       "      <td>...</td>\n",
       "      <td>...</td>\n",
       "      <td>...</td>\n",
       "      <td>...</td>\n",
       "      <td>...</td>\n",
       "      <td>...</td>\n",
       "    </tr>\n",
       "    <tr>\n",
       "      <td>1388</td>\n",
       "      <td>Audi</td>\n",
       "      <td>allroad quattro</td>\n",
       "      <td>2013</td>\n",
       "      <td>2.0</td>\n",
       "      <td>4.0</td>\n",
       "      <td>Automatic (S8)</td>\n",
       "      <td>All-Wheel Drive</td>\n",
       "      <td>Small Station Wagons</td>\n",
       "      <td>Premium</td>\n",
       "      <td>14.330870</td>\n",
       "      <td>20</td>\n",
       "      <td>27</td>\n",
       "      <td>23</td>\n",
       "      <td>394.000000</td>\n",
       "      <td>1750</td>\n",
       "      <td>Automatic</td>\n",
       "    </tr>\n",
       "    <tr>\n",
       "      <td>1389</td>\n",
       "      <td>Audi</td>\n",
       "      <td>allroad quattro</td>\n",
       "      <td>2013</td>\n",
       "      <td>2.0</td>\n",
       "      <td>4.0</td>\n",
       "      <td>Automatic (S8)</td>\n",
       "      <td>All-Wheel Drive</td>\n",
       "      <td>Small Station Wagons</td>\n",
       "      <td>Premium or E85</td>\n",
       "      <td>14.330870</td>\n",
       "      <td>20</td>\n",
       "      <td>27</td>\n",
       "      <td>23</td>\n",
       "      <td>394.000000</td>\n",
       "      <td>1750</td>\n",
       "      <td>Automatic</td>\n",
       "    </tr>\n",
       "    <tr>\n",
       "      <td>1390</td>\n",
       "      <td>Audi</td>\n",
       "      <td>allroad quattro</td>\n",
       "      <td>2014</td>\n",
       "      <td>2.0</td>\n",
       "      <td>4.0</td>\n",
       "      <td>Automatic (S8)</td>\n",
       "      <td>All-Wheel Drive</td>\n",
       "      <td>Small Station Wagons</td>\n",
       "      <td>Premium or E85</td>\n",
       "      <td>14.330870</td>\n",
       "      <td>20</td>\n",
       "      <td>27</td>\n",
       "      <td>23</td>\n",
       "      <td>394.000000</td>\n",
       "      <td>1750</td>\n",
       "      <td>Automatic</td>\n",
       "    </tr>\n",
       "    <tr>\n",
       "      <td>1391</td>\n",
       "      <td>Audi</td>\n",
       "      <td>allroad quattro</td>\n",
       "      <td>2015</td>\n",
       "      <td>2.0</td>\n",
       "      <td>4.0</td>\n",
       "      <td>Automatic (S8)</td>\n",
       "      <td>All-Wheel Drive</td>\n",
       "      <td>Small Station Wagons</td>\n",
       "      <td>Premium or E85</td>\n",
       "      <td>13.733750</td>\n",
       "      <td>21</td>\n",
       "      <td>28</td>\n",
       "      <td>24</td>\n",
       "      <td>373.000000</td>\n",
       "      <td>1700</td>\n",
       "      <td>Automatic</td>\n",
       "    </tr>\n",
       "    <tr>\n",
       "      <td>1392</td>\n",
       "      <td>Audi</td>\n",
       "      <td>allroad quattro</td>\n",
       "      <td>2016</td>\n",
       "      <td>2.0</td>\n",
       "      <td>4.0</td>\n",
       "      <td>Automatic (S8)</td>\n",
       "      <td>All-Wheel Drive</td>\n",
       "      <td>Small Station Wagons</td>\n",
       "      <td>Premium or E85</td>\n",
       "      <td>13.733750</td>\n",
       "      <td>21</td>\n",
       "      <td>28</td>\n",
       "      <td>24</td>\n",
       "      <td>373.000000</td>\n",
       "      <td>1700</td>\n",
       "      <td>Automatic</td>\n",
       "    </tr>\n",
       "  </tbody>\n",
       "</table>\n",
       "<p>1287 rows × 16 columns</p>\n",
       "</div>"
      ],
      "text/plain": [
       "        Make            Model  Year  Engine Displacement  Cylinders  \\\n",
       "21128  Lexus          CT 200h  2011                  1.8        4.0   \n",
       "21129  Lexus          CT 200h  2012                  1.8        4.0   \n",
       "21130  Lexus          CT 200h  2013                  1.8        4.0   \n",
       "21131  Lexus          CT 200h  2014                  1.8        4.0   \n",
       "21132  Lexus          CT 200h  2015                  1.8        4.0   \n",
       "...      ...              ...   ...                  ...        ...   \n",
       "1388    Audi  allroad quattro  2013                  2.0        4.0   \n",
       "1389    Audi  allroad quattro  2013                  2.0        4.0   \n",
       "1390    Audi  allroad quattro  2014                  2.0        4.0   \n",
       "1391    Audi  allroad quattro  2015                  2.0        4.0   \n",
       "1392    Audi  allroad quattro  2016                  2.0        4.0   \n",
       "\n",
       "                           Transmission         Drivetrain  \\\n",
       "21128  Automatic (variable gear ratios)  Front-Wheel Drive   \n",
       "21129  Automatic (variable gear ratios)  Front-Wheel Drive   \n",
       "21130  Automatic (variable gear ratios)  Front-Wheel Drive   \n",
       "21131  Automatic (variable gear ratios)  Front-Wheel Drive   \n",
       "21132  Automatic (variable gear ratios)  Front-Wheel Drive   \n",
       "...                                 ...                ...   \n",
       "1388                     Automatic (S8)    All-Wheel Drive   \n",
       "1389                     Automatic (S8)    All-Wheel Drive   \n",
       "1390                     Automatic (S8)    All-Wheel Drive   \n",
       "1391                     Automatic (S8)    All-Wheel Drive   \n",
       "1392                     Automatic (S8)    All-Wheel Drive   \n",
       "\n",
       "              Vehicle Class       Fuel Type  Fuel Barrels/Year  City MPG  \\\n",
       "21128          Compact Cars         Regular           7.847857        43   \n",
       "21129          Compact Cars         Regular           7.847857        43   \n",
       "21130          Compact Cars         Regular           7.847857        43   \n",
       "21131          Compact Cars         Regular           7.847857        43   \n",
       "21132          Compact Cars         Regular           7.847857        43   \n",
       "...                     ...             ...                ...       ...   \n",
       "1388   Small Station Wagons         Premium          14.330870        20   \n",
       "1389   Small Station Wagons  Premium or E85          14.330870        20   \n",
       "1390   Small Station Wagons  Premium or E85          14.330870        20   \n",
       "1391   Small Station Wagons  Premium or E85          13.733750        21   \n",
       "1392   Small Station Wagons  Premium or E85          13.733750        21   \n",
       "\n",
       "       Highway MPG  Combined MPG  CO2 Emission Grams/Mile  Fuel Cost/Year  \\\n",
       "21128           40            42               211.595238             800   \n",
       "21129           40            42               211.595238             800   \n",
       "21130           40            42               211.000000             800   \n",
       "21131           40            42               179.000000             800   \n",
       "21132           40            42               211.000000             800   \n",
       "...            ...           ...                      ...             ...   \n",
       "1388            27            23               394.000000            1750   \n",
       "1389            27            23               394.000000            1750   \n",
       "1390            27            23               394.000000            1750   \n",
       "1391            28            24               373.000000            1700   \n",
       "1392            28            24               373.000000            1700   \n",
       "\n",
       "       TransType  \n",
       "21128  Automatic  \n",
       "21129  Automatic  \n",
       "21130  Automatic  \n",
       "21131  Automatic  \n",
       "21132  Automatic  \n",
       "...          ...  \n",
       "1388   Automatic  \n",
       "1389   Automatic  \n",
       "1390   Automatic  \n",
       "1391   Automatic  \n",
       "1392   Automatic  \n",
       "\n",
       "[1287 rows x 16 columns]"
      ]
     },
     "execution_count": 165,
     "metadata": {},
     "output_type": "execute_result"
    }
   ],
   "source": [
    "# split df into lexus and audi \n",
    "lexus = data[data['Make']=='Lexus']\n",
    "audi = data[data['Make']=='Audi']\n",
    "\n",
    "# concatenate along the row axis (i.e. axis=0) here (i.e. simply 'append it')\n",
    "pd.concat([lexus, audi], axis = 0)"
   ]
  },
  {
   "cell_type": "markdown",
   "metadata": {
    "colab_type": "text",
    "id": "hg9reSGj4lvn"
   },
   "source": [
    "## Melting Data into Long Format\n"
   ]
  },
  {
   "cell_type": "markdown",
   "metadata": {
    "colab_type": "text",
    "id": "r-mniVaJSrh_"
   },
   "source": [
    "\n",
    "Our vehicles data set currently has a **wide format**, where there is a column for each attribute.  "
   ]
  },
  {
   "cell_type": "markdown",
   "metadata": {
    "colab_type": "text",
    "id": "Lk8NH3Ln4lvo"
   },
   "source": [
    "However, some analytic and visualization (e.g. time series visualization) tasks will require that the data be in a **long format**, where there are a few variables that define the entities and then all other attribute information is **condensed** into two columns: \n",
    "\n",
    "- one containing the column/attribute names;\n",
    "- another containing the value for that attribute for each entity. "
   ]
  },
  {
   "cell_type": "markdown",
   "metadata": {
    "colab_type": "text",
    "id": "D6Fbe82X4lvo"
   },
   "source": [
    "Pandas makes it easy to format data this way with the melt function."
   ]
  },
  {
   "cell_type": "code",
   "execution_count": 166,
   "metadata": {
    "colab": {},
    "colab_type": "code",
    "id": "yjUDwbnX4lvp"
   },
   "outputs": [
    {
     "data": {
      "text/html": [
       "<div>\n",
       "<style scoped>\n",
       "    .dataframe tbody tr th:only-of-type {\n",
       "        vertical-align: middle;\n",
       "    }\n",
       "\n",
       "    .dataframe tbody tr th {\n",
       "        vertical-align: top;\n",
       "    }\n",
       "\n",
       "    .dataframe thead th {\n",
       "        text-align: right;\n",
       "    }\n",
       "</style>\n",
       "<table border=\"1\" class=\"dataframe\">\n",
       "  <thead>\n",
       "    <tr style=\"text-align: right;\">\n",
       "      <th></th>\n",
       "      <th>A</th>\n",
       "      <th>B</th>\n",
       "      <th>C</th>\n",
       "      <th>D</th>\n",
       "    </tr>\n",
       "  </thead>\n",
       "  <tbody>\n",
       "    <tr>\n",
       "      <td>0</td>\n",
       "      <td>a</td>\n",
       "      <td>1</td>\n",
       "      <td>2</td>\n",
       "      <td>2</td>\n",
       "    </tr>\n",
       "    <tr>\n",
       "      <td>1</td>\n",
       "      <td>b</td>\n",
       "      <td>3</td>\n",
       "      <td>4</td>\n",
       "      <td>4</td>\n",
       "    </tr>\n",
       "    <tr>\n",
       "      <td>2</td>\n",
       "      <td>c</td>\n",
       "      <td>5</td>\n",
       "      <td>6</td>\n",
       "      <td>6</td>\n",
       "    </tr>\n",
       "  </tbody>\n",
       "</table>\n",
       "</div>"
      ],
      "text/plain": [
       "   A  B  C  D\n",
       "0  a  1  2  2\n",
       "1  b  3  4  4\n",
       "2  c  5  6  6"
      ]
     },
     "execution_count": 166,
     "metadata": {},
     "output_type": "execute_result"
    }
   ],
   "source": [
    "df = pd.DataFrame({'A': {0: 'a', 1: 'b', 2: 'c'},\n",
    "                   'B': {0: 1, 1: 3, 2: 5},\n",
    "                   'C': {0: 2, 1: 4, 2: 6},\n",
    "                   'D': {0: 2, 1: 4, 2: 6}})\n",
    "df"
   ]
  },
  {
   "cell_type": "code",
   "execution_count": 167,
   "metadata": {
    "colab": {},
    "colab_type": "code",
    "id": "ZgtnbtC84lvr"
   },
   "outputs": [
    {
     "data": {
      "text/html": [
       "<div>\n",
       "<style scoped>\n",
       "    .dataframe tbody tr th:only-of-type {\n",
       "        vertical-align: middle;\n",
       "    }\n",
       "\n",
       "    .dataframe tbody tr th {\n",
       "        vertical-align: top;\n",
       "    }\n",
       "\n",
       "    .dataframe thead th {\n",
       "        text-align: right;\n",
       "    }\n",
       "</style>\n",
       "<table border=\"1\" class=\"dataframe\">\n",
       "  <thead>\n",
       "    <tr style=\"text-align: right;\">\n",
       "      <th></th>\n",
       "      <th>A</th>\n",
       "      <th>variable</th>\n",
       "      <th>value</th>\n",
       "    </tr>\n",
       "  </thead>\n",
       "  <tbody>\n",
       "    <tr>\n",
       "      <td>0</td>\n",
       "      <td>a</td>\n",
       "      <td>B</td>\n",
       "      <td>1</td>\n",
       "    </tr>\n",
       "    <tr>\n",
       "      <td>1</td>\n",
       "      <td>b</td>\n",
       "      <td>B</td>\n",
       "      <td>3</td>\n",
       "    </tr>\n",
       "    <tr>\n",
       "      <td>2</td>\n",
       "      <td>c</td>\n",
       "      <td>B</td>\n",
       "      <td>5</td>\n",
       "    </tr>\n",
       "    <tr>\n",
       "      <td>3</td>\n",
       "      <td>a</td>\n",
       "      <td>C</td>\n",
       "      <td>2</td>\n",
       "    </tr>\n",
       "    <tr>\n",
       "      <td>4</td>\n",
       "      <td>b</td>\n",
       "      <td>C</td>\n",
       "      <td>4</td>\n",
       "    </tr>\n",
       "    <tr>\n",
       "      <td>5</td>\n",
       "      <td>c</td>\n",
       "      <td>C</td>\n",
       "      <td>6</td>\n",
       "    </tr>\n",
       "    <tr>\n",
       "      <td>6</td>\n",
       "      <td>a</td>\n",
       "      <td>D</td>\n",
       "      <td>2</td>\n",
       "    </tr>\n",
       "    <tr>\n",
       "      <td>7</td>\n",
       "      <td>b</td>\n",
       "      <td>D</td>\n",
       "      <td>4</td>\n",
       "    </tr>\n",
       "    <tr>\n",
       "      <td>8</td>\n",
       "      <td>c</td>\n",
       "      <td>D</td>\n",
       "      <td>6</td>\n",
       "    </tr>\n",
       "  </tbody>\n",
       "</table>\n",
       "</div>"
      ],
      "text/plain": [
       "   A variable  value\n",
       "0  a        B      1\n",
       "1  b        B      3\n",
       "2  c        B      5\n",
       "3  a        C      2\n",
       "4  b        C      4\n",
       "5  c        C      6\n",
       "6  a        D      2\n",
       "7  b        D      4\n",
       "8  c        D      6"
      ]
     },
     "execution_count": 167,
     "metadata": {},
     "output_type": "execute_result"
    }
   ],
   "source": [
    "pd.melt(df, id_vars=['A'], value_vars=['B', 'C', 'D'])"
   ]
  },
  {
   "cell_type": "code",
   "execution_count": 168,
   "metadata": {},
   "outputs": [
    {
     "data": {
      "text/html": [
       "<div>\n",
       "<style scoped>\n",
       "    .dataframe tbody tr th:only-of-type {\n",
       "        vertical-align: middle;\n",
       "    }\n",
       "\n",
       "    .dataframe tbody tr th {\n",
       "        vertical-align: top;\n",
       "    }\n",
       "\n",
       "    .dataframe thead th {\n",
       "        text-align: right;\n",
       "    }\n",
       "</style>\n",
       "<table border=\"1\" class=\"dataframe\">\n",
       "  <thead>\n",
       "    <tr style=\"text-align: right;\">\n",
       "      <th></th>\n",
       "      <th>Model</th>\n",
       "      <th>Fuel Type</th>\n",
       "      <th>City MPG</th>\n",
       "    </tr>\n",
       "  </thead>\n",
       "  <tbody>\n",
       "    <tr>\n",
       "      <td>0</td>\n",
       "      <td>DJ Po Vehicle 2WD</td>\n",
       "      <td>Regular</td>\n",
       "      <td>18</td>\n",
       "    </tr>\n",
       "    <tr>\n",
       "      <td>1</td>\n",
       "      <td>FJ8c Post Office</td>\n",
       "      <td>Regular</td>\n",
       "      <td>13</td>\n",
       "    </tr>\n",
       "    <tr>\n",
       "      <td>2</td>\n",
       "      <td>Post Office DJ5 2WD</td>\n",
       "      <td>Regular</td>\n",
       "      <td>16</td>\n",
       "    </tr>\n",
       "    <tr>\n",
       "      <td>3</td>\n",
       "      <td>Post Office DJ8 2WD</td>\n",
       "      <td>Regular</td>\n",
       "      <td>13</td>\n",
       "    </tr>\n",
       "    <tr>\n",
       "      <td>4</td>\n",
       "      <td>GNX</td>\n",
       "      <td>Premium</td>\n",
       "      <td>14</td>\n",
       "    </tr>\n",
       "  </tbody>\n",
       "</table>\n",
       "</div>"
      ],
      "text/plain": [
       "                 Model Fuel Type  City MPG\n",
       "0    DJ Po Vehicle 2WD   Regular        18\n",
       "1     FJ8c Post Office   Regular        13\n",
       "2  Post Office DJ5 2WD   Regular        16\n",
       "3  Post Office DJ8 2WD   Regular        13\n",
       "4                  GNX   Premium        14"
      ]
     },
     "execution_count": 168,
     "metadata": {},
     "output_type": "execute_result"
    }
   ],
   "source": [
    "data[['Model','Fuel Type', 'City MPG']].head()"
   ]
  },
  {
   "cell_type": "code",
   "execution_count": 169,
   "metadata": {},
   "outputs": [
    {
     "data": {
      "text/plain": [
       "35952"
      ]
     },
     "execution_count": 169,
     "metadata": {},
     "output_type": "execute_result"
    }
   ],
   "source": [
    "len(data)"
   ]
  },
  {
   "cell_type": "markdown",
   "metadata": {},
   "source": [
    "We have a row per iloc that will be located in the value column"
   ]
  },
  {
   "cell_type": "code",
   "execution_count": 170,
   "metadata": {
    "colab": {},
    "colab_type": "code",
    "id": "uUnAvM1Z4lvs"
   },
   "outputs": [
    {
     "data": {
      "text/plain": [
       "71904"
      ]
     },
     "execution_count": 170,
     "metadata": {},
     "output_type": "execute_result"
    }
   ],
   "source": [
    "melted_df = pd.melt(data, id_vars=['Model'], value_vars=['Fuel Type', 'City MPG']) \n",
    "len(melted_df)\n"
   ]
  },
  {
   "cell_type": "code",
   "execution_count": 171,
   "metadata": {},
   "outputs": [
    {
     "data": {
      "text/html": [
       "<div>\n",
       "<style scoped>\n",
       "    .dataframe tbody tr th:only-of-type {\n",
       "        vertical-align: middle;\n",
       "    }\n",
       "\n",
       "    .dataframe tbody tr th {\n",
       "        vertical-align: top;\n",
       "    }\n",
       "\n",
       "    .dataframe thead th {\n",
       "        text-align: right;\n",
       "    }\n",
       "</style>\n",
       "<table border=\"1\" class=\"dataframe\">\n",
       "  <thead>\n",
       "    <tr style=\"text-align: right;\">\n",
       "      <th></th>\n",
       "      <th>Model</th>\n",
       "      <th>variable</th>\n",
       "      <th>value</th>\n",
       "    </tr>\n",
       "  </thead>\n",
       "  <tbody>\n",
       "    <tr>\n",
       "      <td>0</td>\n",
       "      <td>DJ Po Vehicle 2WD</td>\n",
       "      <td>Fuel Type</td>\n",
       "      <td>Regular</td>\n",
       "    </tr>\n",
       "    <tr>\n",
       "      <td>1</td>\n",
       "      <td>FJ8c Post Office</td>\n",
       "      <td>Fuel Type</td>\n",
       "      <td>Regular</td>\n",
       "    </tr>\n",
       "    <tr>\n",
       "      <td>2</td>\n",
       "      <td>Post Office DJ5 2WD</td>\n",
       "      <td>Fuel Type</td>\n",
       "      <td>Regular</td>\n",
       "    </tr>\n",
       "    <tr>\n",
       "      <td>3</td>\n",
       "      <td>Post Office DJ8 2WD</td>\n",
       "      <td>Fuel Type</td>\n",
       "      <td>Regular</td>\n",
       "    </tr>\n",
       "    <tr>\n",
       "      <td>4</td>\n",
       "      <td>GNX</td>\n",
       "      <td>Fuel Type</td>\n",
       "      <td>Premium</td>\n",
       "    </tr>\n",
       "  </tbody>\n",
       "</table>\n",
       "</div>"
      ],
      "text/plain": [
       "                 Model   variable    value\n",
       "0    DJ Po Vehicle 2WD  Fuel Type  Regular\n",
       "1     FJ8c Post Office  Fuel Type  Regular\n",
       "2  Post Office DJ5 2WD  Fuel Type  Regular\n",
       "3  Post Office DJ8 2WD  Fuel Type  Regular\n",
       "4                  GNX  Fuel Type  Premium"
      ]
     },
     "execution_count": 171,
     "metadata": {},
     "output_type": "execute_result"
    }
   ],
   "source": [
    "melted_df.head()"
   ]
  },
  {
   "cell_type": "markdown",
   "metadata": {
    "colab_type": "text",
    "id": "hD6SN74i4lvx"
   },
   "source": [
    "Now suppose we were going to perform some analysis or visualization task where we needed the Year, Make, and Model to identify the vehicles and then we also needed the City MPG, Highway MPG, and Combined MPG fields for performing various calculations. Below is how we would melt the data into the proper format."
   ]
  },
  {
   "cell_type": "code",
   "execution_count": 172,
   "metadata": {
    "colab": {},
    "colab_type": "code",
    "id": "WjTLDBQ44lvy"
   },
   "outputs": [
    {
     "data": {
      "text/html": [
       "<div>\n",
       "<style scoped>\n",
       "    .dataframe tbody tr th:only-of-type {\n",
       "        vertical-align: middle;\n",
       "    }\n",
       "\n",
       "    .dataframe tbody tr th {\n",
       "        vertical-align: top;\n",
       "    }\n",
       "\n",
       "    .dataframe thead th {\n",
       "        text-align: right;\n",
       "    }\n",
       "</style>\n",
       "<table border=\"1\" class=\"dataframe\">\n",
       "  <thead>\n",
       "    <tr style=\"text-align: right;\">\n",
       "      <th></th>\n",
       "      <th>Year</th>\n",
       "      <th>Make</th>\n",
       "      <th>Model</th>\n",
       "      <th>variable</th>\n",
       "      <th>value</th>\n",
       "    </tr>\n",
       "  </thead>\n",
       "  <tbody>\n",
       "    <tr>\n",
       "      <td>0</td>\n",
       "      <td>1984</td>\n",
       "      <td>AM General</td>\n",
       "      <td>DJ Po Vehicle 2WD</td>\n",
       "      <td>Highway MPG</td>\n",
       "      <td>17</td>\n",
       "    </tr>\n",
       "    <tr>\n",
       "      <td>1</td>\n",
       "      <td>1984</td>\n",
       "      <td>AM General</td>\n",
       "      <td>FJ8c Post Office</td>\n",
       "      <td>Highway MPG</td>\n",
       "      <td>13</td>\n",
       "    </tr>\n",
       "    <tr>\n",
       "      <td>2</td>\n",
       "      <td>1985</td>\n",
       "      <td>AM General</td>\n",
       "      <td>Post Office DJ5 2WD</td>\n",
       "      <td>Highway MPG</td>\n",
       "      <td>17</td>\n",
       "    </tr>\n",
       "    <tr>\n",
       "      <td>3</td>\n",
       "      <td>1985</td>\n",
       "      <td>AM General</td>\n",
       "      <td>Post Office DJ8 2WD</td>\n",
       "      <td>Highway MPG</td>\n",
       "      <td>13</td>\n",
       "    </tr>\n",
       "    <tr>\n",
       "      <td>4</td>\n",
       "      <td>1987</td>\n",
       "      <td>ASC Incorporated</td>\n",
       "      <td>GNX</td>\n",
       "      <td>Highway MPG</td>\n",
       "      <td>21</td>\n",
       "    </tr>\n",
       "    <tr>\n",
       "      <td>...</td>\n",
       "      <td>...</td>\n",
       "      <td>...</td>\n",
       "      <td>...</td>\n",
       "      <td>...</td>\n",
       "      <td>...</td>\n",
       "    </tr>\n",
       "    <tr>\n",
       "      <td>143803</td>\n",
       "      <td>2013</td>\n",
       "      <td>smart</td>\n",
       "      <td>fortwo coupe</td>\n",
       "      <td>Cylinders</td>\n",
       "      <td>3</td>\n",
       "    </tr>\n",
       "    <tr>\n",
       "      <td>143804</td>\n",
       "      <td>2014</td>\n",
       "      <td>smart</td>\n",
       "      <td>fortwo coupe</td>\n",
       "      <td>Cylinders</td>\n",
       "      <td>3</td>\n",
       "    </tr>\n",
       "    <tr>\n",
       "      <td>143805</td>\n",
       "      <td>2015</td>\n",
       "      <td>smart</td>\n",
       "      <td>fortwo coupe</td>\n",
       "      <td>Cylinders</td>\n",
       "      <td>3</td>\n",
       "    </tr>\n",
       "    <tr>\n",
       "      <td>143806</td>\n",
       "      <td>2016</td>\n",
       "      <td>smart</td>\n",
       "      <td>fortwo coupe</td>\n",
       "      <td>Cylinders</td>\n",
       "      <td>3</td>\n",
       "    </tr>\n",
       "    <tr>\n",
       "      <td>143807</td>\n",
       "      <td>2016</td>\n",
       "      <td>smart</td>\n",
       "      <td>fortwo coupe</td>\n",
       "      <td>Cylinders</td>\n",
       "      <td>3</td>\n",
       "    </tr>\n",
       "  </tbody>\n",
       "</table>\n",
       "<p>143808 rows × 5 columns</p>\n",
       "</div>"
      ],
      "text/plain": [
       "        Year              Make                Model     variable value\n",
       "0       1984        AM General    DJ Po Vehicle 2WD  Highway MPG    17\n",
       "1       1984        AM General     FJ8c Post Office  Highway MPG    13\n",
       "2       1985        AM General  Post Office DJ5 2WD  Highway MPG    17\n",
       "3       1985        AM General  Post Office DJ8 2WD  Highway MPG    13\n",
       "4       1987  ASC Incorporated                  GNX  Highway MPG    21\n",
       "...      ...               ...                  ...          ...   ...\n",
       "143803  2013             smart         fortwo coupe    Cylinders     3\n",
       "143804  2014             smart         fortwo coupe    Cylinders     3\n",
       "143805  2015             smart         fortwo coupe    Cylinders     3\n",
       "143806  2016             smart         fortwo coupe    Cylinders     3\n",
       "143807  2016             smart         fortwo coupe    Cylinders     3\n",
       "\n",
       "[143808 rows x 5 columns]"
      ]
     },
     "execution_count": 172,
     "metadata": {},
     "output_type": "execute_result"
    }
   ],
   "source": [
    "# melt on data with id_vars=['Year','Make','Model'] and value_vars=['Highway MPG','Combined MPG']\n",
    "pd.melt(data, id_vars=['Year','Make','Model'], value_vars=['Highway MPG','Combined MPG', 'Transmission', 'Cylinders'])"
   ]
  },
  {
   "cell_type": "markdown",
   "metadata": {
    "colab_type": "text",
    "id": "kvR20fckSx-f"
   },
   "source": [
    "As you can see, the column names have been stacked into the the variable field and their corresponding values have been stacked into the value field."
   ]
  },
  {
   "cell_type": "markdown",
   "metadata": {
    "colab_type": "text",
    "id": "iq96sKEi4lv1"
   },
   "source": [
    "## Summary \n"
   ]
  },
  {
   "cell_type": "markdown",
   "metadata": {
    "colab_type": "text",
    "id": "DvF97nIVSzrt"
   },
   "source": [
    "In this lesson, we learned some more advanced ways of manipulating data frames. We then learned how to filter records based on conditional logic and how to add create additional categorical columns that may be useful to us when analyzing and modeling data later. From there, we learned how to combine data from multiple data sets and also how to melt data to make it easier to compute upon."
   ]
  },
  {
   "cell_type": "code",
   "execution_count": 173,
   "metadata": {
    "colab": {},
    "colab_type": "code",
    "id": "J9wAjchT4lv2"
   },
   "outputs": [],
   "source": [
    "average = (data['City MPG'] + data['Highway MPG']) / 2\n",
    "average = pd.DataFrame(average)\n",
    "average['Make'] = data['Make']\n",
    "average\n",
    "average = average.groupby([\"Make\"]).mean()\n",
    "average.to_csv('average_mpg.csv', index = True)"
   ]
  },
  {
   "cell_type": "code",
   "execution_count": 174,
   "metadata": {},
   "outputs": [
    {
     "data": {
      "text/html": [
       "<div>\n",
       "<style scoped>\n",
       "    .dataframe tbody tr th:only-of-type {\n",
       "        vertical-align: middle;\n",
       "    }\n",
       "\n",
       "    .dataframe tbody tr th {\n",
       "        vertical-align: top;\n",
       "    }\n",
       "\n",
       "    .dataframe thead th {\n",
       "        text-align: right;\n",
       "    }\n",
       "</style>\n",
       "<table border=\"1\" class=\"dataframe\">\n",
       "  <thead>\n",
       "    <tr style=\"text-align: right;\">\n",
       "      <th></th>\n",
       "      <th>0</th>\n",
       "    </tr>\n",
       "    <tr>\n",
       "      <th>Make</th>\n",
       "      <th></th>\n",
       "    </tr>\n",
       "  </thead>\n",
       "  <tbody>\n",
       "    <tr>\n",
       "      <td>AM General</td>\n",
       "      <td>15.000000</td>\n",
       "    </tr>\n",
       "    <tr>\n",
       "      <td>ASC Incorporated</td>\n",
       "      <td>17.500000</td>\n",
       "    </tr>\n",
       "    <tr>\n",
       "      <td>Acura</td>\n",
       "      <td>22.415563</td>\n",
       "    </tr>\n",
       "    <tr>\n",
       "      <td>Alfa Romeo</td>\n",
       "      <td>20.500000</td>\n",
       "    </tr>\n",
       "    <tr>\n",
       "      <td>American Motors Corporation</td>\n",
       "      <td>18.113636</td>\n",
       "    </tr>\n",
       "    <tr>\n",
       "      <td>...</td>\n",
       "      <td>...</td>\n",
       "    </tr>\n",
       "    <tr>\n",
       "      <td>Volkswagen</td>\n",
       "      <td>25.106017</td>\n",
       "    </tr>\n",
       "    <tr>\n",
       "      <td>Volvo</td>\n",
       "      <td>21.523013</td>\n",
       "    </tr>\n",
       "    <tr>\n",
       "      <td>Wallace Environmental</td>\n",
       "      <td>14.218750</td>\n",
       "    </tr>\n",
       "    <tr>\n",
       "      <td>Yugo</td>\n",
       "      <td>25.625000</td>\n",
       "    </tr>\n",
       "    <tr>\n",
       "      <td>smart</td>\n",
       "      <td>36.300000</td>\n",
       "    </tr>\n",
       "  </tbody>\n",
       "</table>\n",
       "<p>127 rows × 1 columns</p>\n",
       "</div>"
      ],
      "text/plain": [
       "                                     0\n",
       "Make                                  \n",
       "AM General                   15.000000\n",
       "ASC Incorporated             17.500000\n",
       "Acura                        22.415563\n",
       "Alfa Romeo                   20.500000\n",
       "American Motors Corporation  18.113636\n",
       "...                                ...\n",
       "Volkswagen                   25.106017\n",
       "Volvo                        21.523013\n",
       "Wallace Environmental        14.218750\n",
       "Yugo                         25.625000\n",
       "smart                        36.300000\n",
       "\n",
       "[127 rows x 1 columns]"
      ]
     },
     "execution_count": 174,
     "metadata": {},
     "output_type": "execute_result"
    }
   ],
   "source": [
    "average"
   ]
  },
  {
   "cell_type": "code",
   "execution_count": 175,
   "metadata": {},
   "outputs": [],
   "source": [
    "%matplotlib inline\n",
    "import numpy as np\n",
    "import pandas as pd\n",
    "import matplotlib.pyplot as plt\n",
    "vehicles = pd.read_csv('vehicles/vehicles.csv')"
   ]
  },
  {
   "cell_type": "code",
   "execution_count": 176,
   "metadata": {},
   "outputs": [
    {
     "data": {
      "text/plain": [
       "35952"
      ]
     },
     "execution_count": 176,
     "metadata": {},
     "output_type": "execute_result"
    }
   ],
   "source": [
    "len(vehicles)"
   ]
  },
  {
   "cell_type": "code",
   "execution_count": 177,
   "metadata": {},
   "outputs": [
    {
     "data": {
      "text/plain": [
       "<matplotlib.collections.PathCollection at 0x7f915d137c50>"
      ]
     },
     "execution_count": 177,
     "metadata": {},
     "output_type": "execute_result"
    },
    {
     "data": {
      "image/png": "[encoded data removed]",
      "text/plain": [
       "<Figure size 432x288 with 1 Axes>"
      ]
     },
     "metadata": {
      "needs_background": "light"
     },
     "output_type": "display_data"
    }
   ],
   "source": [
    "plt.scatter(vehicles[\"CO2 Emission Grams/Mile\"], vehicles[\"Highway MPG\"])"
   ]
  },
  {
   "cell_type": "code",
   "execution_count": 178,
   "metadata": {},
   "outputs": [
    {
     "data": {
      "text/plain": [
       "<matplotlib.axes._subplots.AxesSubplot at 0x7f915d14ddd0>"
      ]
     },
     "execution_count": 178,
     "metadata": {},
     "output_type": "execute_result"
    },
    {
     "data": {
      "image/png": "[encoded data removed]",
      "text/plain": [
       "<Figure size 432x288 with 1 Axes>"
      ]
     },
     "metadata": {
      "needs_background": "light"
     },
     "output_type": "display_data"
    }
   ],
   "source": [
    "vehicles.sort_values(by=[\"CO2 Emission Grams/Mile\", \"City MPG\", \"Highway MPG\"], inplace=True)\n",
    "vehicles.plot(x=\"CO2 Emission Grams/Mile\", y=[\"City MPG\", \"Highway MPG\"])"
   ]
  },
  {
   "cell_type": "code",
   "execution_count": 179,
   "metadata": {},
   "outputs": [
    {
     "data": {
      "text/plain": [
       "<matplotlib.axes._subplots.AxesSubplot at 0x7f915c14a650>"
      ]
     },
     "execution_count": 179,
     "metadata": {},
     "output_type": "execute_result"
    },
    {
     "data": {
      "image/png": "[encoded data removed]",
      "text/plain": [
       "<Figure size 432x288 with 1 Axes>"
      ]
     },
     "metadata": {
      "needs_background": "light"
     },
     "output_type": "display_data"
    }
   ],
   "source": [
    "vehicles_mean = vehicles[[\"Highway MPG\", \"City MPG\", \"Drivetrain\"]].groupby([\"Drivetrain\"]).agg(\"mean\")\n",
    "vehicles_mean.plot.bar()"
   ]
  },
  {
   "cell_type": "code",
   "execution_count": 180,
   "metadata": {},
   "outputs": [
    {
     "data": {
      "text/html": [
       "<div>\n",
       "<style scoped>\n",
       "    .dataframe tbody tr th:only-of-type {\n",
       "        vertical-align: middle;\n",
       "    }\n",
       "\n",
       "    .dataframe tbody tr th {\n",
       "        vertical-align: top;\n",
       "    }\n",
       "\n",
       "    .dataframe thead th {\n",
       "        text-align: right;\n",
       "    }\n",
       "</style>\n",
       "<table border=\"1\" class=\"dataframe\">\n",
       "  <thead>\n",
       "    <tr style=\"text-align: right;\">\n",
       "      <th></th>\n",
       "      <th>Highway MPG</th>\n",
       "      <th>City MPG</th>\n",
       "    </tr>\n",
       "    <tr>\n",
       "      <th>Drivetrain</th>\n",
       "      <th></th>\n",
       "      <th></th>\n",
       "    </tr>\n",
       "  </thead>\n",
       "  <tbody>\n",
       "    <tr>\n",
       "      <td>2-Wheel Drive</td>\n",
       "      <td>19.340426</td>\n",
       "      <td>15.624113</td>\n",
       "    </tr>\n",
       "    <tr>\n",
       "      <td>2-Wheel Drive, Front</td>\n",
       "      <td>33.000000</td>\n",
       "      <td>25.000000</td>\n",
       "    </tr>\n",
       "    <tr>\n",
       "      <td>4-Wheel Drive</td>\n",
       "      <td>22.741966</td>\n",
       "      <td>16.913989</td>\n",
       "    </tr>\n",
       "    <tr>\n",
       "      <td>4-Wheel or All-Wheel Drive</td>\n",
       "      <td>19.633708</td>\n",
       "      <td>15.035061</td>\n",
       "    </tr>\n",
       "    <tr>\n",
       "      <td>All-Wheel Drive</td>\n",
       "      <td>25.597352</td>\n",
       "      <td>18.312898</td>\n",
       "    </tr>\n",
       "    <tr>\n",
       "      <td>Front-Wheel Drive</td>\n",
       "      <td>28.616759</td>\n",
       "      <td>21.174563</td>\n",
       "    </tr>\n",
       "    <tr>\n",
       "      <td>Part-time 4-Wheel Drive</td>\n",
       "      <td>19.088608</td>\n",
       "      <td>14.620253</td>\n",
       "    </tr>\n",
       "    <tr>\n",
       "      <td>Rear-Wheel Drive</td>\n",
       "      <td>21.225680</td>\n",
       "      <td>15.422049</td>\n",
       "    </tr>\n",
       "  </tbody>\n",
       "</table>\n",
       "</div>"
      ],
      "text/plain": [
       "                            Highway MPG   City MPG\n",
       "Drivetrain                                        \n",
       "2-Wheel Drive                 19.340426  15.624113\n",
       "2-Wheel Drive, Front          33.000000  25.000000\n",
       "4-Wheel Drive                 22.741966  16.913989\n",
       "4-Wheel or All-Wheel Drive    19.633708  15.035061\n",
       "All-Wheel Drive               25.597352  18.312898\n",
       "Front-Wheel Drive             28.616759  21.174563\n",
       "Part-time 4-Wheel Drive       19.088608  14.620253\n",
       "Rear-Wheel Drive              21.225680  15.422049"
      ]
     },
     "execution_count": 180,
     "metadata": {},
     "output_type": "execute_result"
    }
   ],
   "source": [
    "vehicles_mean"
   ]
  },
  {
   "cell_type": "code",
   "execution_count": 181,
   "metadata": {},
   "outputs": [
    {
     "data": {
      "text/plain": [
       "<matplotlib.axes._subplots.AxesSubplot at 0x7f915c18a250>"
      ]
     },
     "execution_count": 181,
     "metadata": {},
     "output_type": "execute_result"
    },
    {
     "data": {
      "image/png": "[encoded data removed]",
      "text/plain": [
       "<Figure size 432x288 with 1 Axes>"
      ]
     },
     "metadata": {
      "needs_background": "light"
     },
     "output_type": "display_data"
    }
   ],
   "source": [
    "vehicles_mean.plot.barh()"
   ]
  },
  {
   "cell_type": "code",
   "execution_count": null,
   "metadata": {},
   "outputs": [],
   "source": []
  },
  {
   "cell_type": "code",
   "execution_count": null,
   "metadata": {},
   "outputs": [],
   "source": []
  },
  {
   "cell_type": "code",
   "execution_count": null,
   "metadata": {},
   "outputs": [],
   "source": []
  }
 ],
 "metadata": {
  "celltoolbar": "Slideshow",
  "colab": {
   "collapsed_sections": [],
   "name": "Advanced_Data_Manipulation.ipynb",
   "provenance": []
  },
  "kernelspec": {
   "display_name": "Python 3",
   "language": "python",
   "name": "python3"
  },
  "language_info": {
   "codemirror_mode": {
    "name": "ipython",
    "version": 3
   },
   "file_extension": ".py",
   "mimetype": "text/x-python",
   "name": "python",
   "nbconvert_exporter": "python",
   "pygments_lexer": "ipython3",
   "version": "3.8.3"
  }
 },
 "nbformat": 4,
 "nbformat_minor": 4
}
